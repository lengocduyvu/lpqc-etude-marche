{
 "cells": [
  {
   "cell_type": "markdown",
   "metadata": {},
   "source": [
    "<img src=\"../gfx/lpqc_title.jpg\" alt=\"Title\" style=\"display: block; margin: auto; width: 100%;\" />"
   ]
  },
  {
   "cell_type": "markdown",
   "metadata": {},
   "source": [
    "# 🐓 Analyse exploratoire"
   ]
  },
  {
   "cell_type": "markdown",
   "metadata": {},
   "source": [
    "**\"La Poule Qui Chante\"** 🐓, une entreprise française d'agroalimentaire dont l'activité principale est l'élevage et la vente de poulets sous le label \"Poulet Agriculture Biologique\", souhaite se développer à l'international.\n",
    "\n",
    "L'objectif de cette étude est de proposer une **analyse des groupements de pays cibles pour l'export du poulet**."
   ]
  },
  {
   "cell_type": "markdown",
   "metadata": {},
   "source": [
    "<img src=\"../gfx/sep.jpg\" alt=\"Barre\">"
   ]
  },
  {
   "cell_type": "markdown",
   "metadata": {},
   "source": [
    "## Etape 1 - Importation des librairies et chargement des données"
   ]
  },
  {
   "cell_type": "markdown",
   "metadata": {},
   "source": [
    "***"
   ]
  },
  {
   "cell_type": "markdown",
   "metadata": {},
   "source": [
    "### 1.1 - Importation des librairies"
   ]
  },
  {
   "cell_type": "code",
   "execution_count": 1,
   "metadata": {},
   "outputs": [],
   "source": [
    "import numpy as np\n",
    "import pandas as pd\n",
    "import matplotlib.pyplot as plt\n",
    "import seaborn as sns\n",
    "\n",
    "sns.color_palette(\"colorblind\")\n",
    "sns.set_theme(style=\"darkgrid\")\n"
   ]
  },
  {
   "cell_type": "markdown",
   "metadata": {},
   "source": [
    "Variables retenues :\n",
    "\n",
    "- Population (Source : FAO)\n",
    "- Production volaille (Source : FAO)\n",
    "- Consommation volaille (Source : FAO)\n",
    "- Importations volaille (Source : FAO)\n",
    "- Exportations volaille (Source : FAO)\n",
    "- Stabilité politique (Source : FAO)\n",
    "- Inflation (Source : La Banque Mondiale)\n",
    "- PIB par habitant PPA (Source : La Banque Mondiale)\n",
    "- Implantation des restaurants KFC (Source : Wikipedia)\n",
    "- Distances en tranport maritime entre les pays"
   ]
  },
  {
   "cell_type": "markdown",
   "metadata": {},
   "source": [
    "### 1.2 - Chargement des données Pays ISO"
   ]
  },
  {
   "cell_type": "markdown",
   "metadata": {},
   "source": [
    "Afin d'être sûr de traiter les bons pays, nous allons utiliser les standards ***ISO 3166-1 alpha-3, et M49*** pour les codes pays."
   ]
  },
  {
   "cell_type": "code",
   "execution_count": 2,
   "metadata": {},
   "outputs": [
    {
     "data": {
      "application/vnd.microsoft.datawrangler.viewer.v0+json": {
       "columns": [
        {
         "name": "index",
         "rawType": "int64",
         "type": "integer"
        },
        {
         "name": "FIFA",
         "rawType": "object",
         "type": "string"
        },
        {
         "name": "Dial",
         "rawType": "object",
         "type": "string"
        },
        {
         "name": "ISO3166-1-Alpha-3",
         "rawType": "object",
         "type": "string"
        },
        {
         "name": "MARC",
         "rawType": "object",
         "type": "unknown"
        },
        {
         "name": "is_independent",
         "rawType": "object",
         "type": "string"
        },
        {
         "name": "ISO3166-1-numeric",
         "rawType": "int64",
         "type": "integer"
        },
        {
         "name": "GAUL",
         "rawType": "float64",
         "type": "float"
        },
        {
         "name": "FIPS",
         "rawType": "object",
         "type": "unknown"
        },
        {
         "name": "WMO",
         "rawType": "object",
         "type": "unknown"
        },
        {
         "name": "ISO3166-1-Alpha-2",
         "rawType": "object",
         "type": "string"
        },
        {
         "name": "ITU",
         "rawType": "object",
         "type": "unknown"
        },
        {
         "name": "IOC",
         "rawType": "object",
         "type": "unknown"
        },
        {
         "name": "DS",
         "rawType": "object",
         "type": "unknown"
        },
        {
         "name": "UNTERM Spanish Formal",
         "rawType": "object",
         "type": "unknown"
        },
        {
         "name": "Global Code",
         "rawType": "int64",
         "type": "integer"
        },
        {
         "name": "Intermediate Region Code",
         "rawType": "float64",
         "type": "float"
        },
        {
         "name": "official_name_fr",
         "rawType": "object",
         "type": "string"
        },
        {
         "name": "UNTERM French Short",
         "rawType": "object",
         "type": "unknown"
        },
        {
         "name": "ISO4217-currency_name",
         "rawType": "object",
         "type": "string"
        },
        {
         "name": "UNTERM Russian Formal",
         "rawType": "object",
         "type": "unknown"
        },
        {
         "name": "UNTERM English Short",
         "rawType": "object",
         "type": "unknown"
        },
        {
         "name": "ISO4217-currency_alphabetic_code",
         "rawType": "object",
         "type": "string"
        },
        {
         "name": "Small Island Developing States (SIDS)",
         "rawType": "object",
         "type": "unknown"
        },
        {
         "name": "UNTERM Spanish Short",
         "rawType": "object",
         "type": "unknown"
        },
        {
         "name": "ISO4217-currency_numeric_code",
         "rawType": "object",
         "type": "string"
        },
        {
         "name": "UNTERM Chinese Formal",
         "rawType": "object",
         "type": "unknown"
        },
        {
         "name": "UNTERM French Formal",
         "rawType": "object",
         "type": "unknown"
        },
        {
         "name": "UNTERM Russian Short",
         "rawType": "object",
         "type": "unknown"
        },
        {
         "name": "M49",
         "rawType": "int64",
         "type": "integer"
        },
        {
         "name": "Sub-region Code",
         "rawType": "float64",
         "type": "float"
        },
        {
         "name": "Region Code",
         "rawType": "float64",
         "type": "float"
        },
        {
         "name": "official_name_ar",
         "rawType": "object",
         "type": "string"
        },
        {
         "name": "ISO4217-currency_minor_unit",
         "rawType": "object",
         "type": "string"
        },
        {
         "name": "UNTERM Arabic Formal",
         "rawType": "object",
         "type": "unknown"
        },
        {
         "name": "UNTERM Chinese Short",
         "rawType": "object",
         "type": "unknown"
        },
        {
         "name": "Land Locked Developing Countries (LLDC)",
         "rawType": "object",
         "type": "unknown"
        },
        {
         "name": "Intermediate Region Name",
         "rawType": "object",
         "type": "unknown"
        },
        {
         "name": "official_name_es",
         "rawType": "object",
         "type": "string"
        },
        {
         "name": "UNTERM English Formal",
         "rawType": "object",
         "type": "unknown"
        },
        {
         "name": "official_name_cn",
         "rawType": "object",
         "type": "string"
        },
        {
         "name": "official_name_en",
         "rawType": "object",
         "type": "string"
        },
        {
         "name": "ISO4217-currency_country_name",
         "rawType": "object",
         "type": "string"
        },
        {
         "name": "Least Developed Countries (LDC)",
         "rawType": "object",
         "type": "unknown"
        },
        {
         "name": "Region Name",
         "rawType": "object",
         "type": "string"
        },
        {
         "name": "UNTERM Arabic Short",
         "rawType": "object",
         "type": "unknown"
        },
        {
         "name": "Sub-region Name",
         "rawType": "object",
         "type": "string"
        },
        {
         "name": "official_name_ru",
         "rawType": "object",
         "type": "string"
        },
        {
         "name": "Global Name",
         "rawType": "object",
         "type": "string"
        },
        {
         "name": "Capital",
         "rawType": "object",
         "type": "string"
        },
        {
         "name": "Continent",
         "rawType": "object",
         "type": "unknown"
        },
        {
         "name": "TLD",
         "rawType": "object",
         "type": "string"
        },
        {
         "name": "Languages",
         "rawType": "object",
         "type": "string"
        },
        {
         "name": "Geoname ID",
         "rawType": "int64",
         "type": "integer"
        },
        {
         "name": "CLDR display name",
         "rawType": "object",
         "type": "string"
        },
        {
         "name": "EDGAR",
         "rawType": "object",
         "type": "unknown"
        },
        {
         "name": "wikidata_id",
         "rawType": "object",
         "type": "string"
        }
       ],
       "conversionMethod": "pd.DataFrame",
       "ref": "bb519800-dafb-4bce-bb35-b8d9c114e90d",
       "rows": [
        [
         "0",
         "AFG",
         "93",
         "AFG",
         "af",
         "Yes",
         "4",
         "1.0",
         "AF",
         "AF",
         "AF",
         "AFG",
         "AFG",
         "AFG",
         "la República Islámica del Afganistán",
         "1",
         null,
         "Afghanistan",
         "Afghanistan (l')",
         "Afghani",
         "Исламская Республика Афганистан",
         "Afghanistan",
         "AFN",
         null,
         "Afganistán (el)",
         "971",
         "阿富汗伊斯兰共和国",
         "la République islamique d'Afghanistan",
         "Афганистан",
         "4",
         "34.0",
         "142.0",
         "أفغانستان",
         "2",
         "جمهورية أفغانستان الإسلامية",
         "阿富汗",
         "x",
         null,
         "Afganistán",
         "the Islamic Republic of Afghanistan",
         "阿富汗",
         "Afghanistan",
         "AFGHANISTAN",
         "x",
         "Asia",
         "أفغانستان",
         "Southern Asia",
         "Афганистан",
         "World",
         "Kabul",
         "AS",
         ".af",
         "fa-AF,ps,uz-AF,tk",
         "1149361",
         "Afghanistan",
         "B2",
         "https://www.wikidata.org/wiki/Q889"
        ],
        [
         "1",
         "AIA",
         "1-264",
         "AIA",
         "am",
         "Territory of GB",
         "660",
         "9.0",
         "AV",
         null,
         "AI",
         "AIA",
         "AIA",
         null,
         null,
         "1",
         "29.0",
         "Anguilla",
         null,
         "East Caribbean Dollar",
         null,
         null,
         "XCD",
         "x",
         null,
         "951",
         null,
         null,
         null,
         "660",
         "419.0",
         "19.0",
         "أنغويلا",
         "2",
         null,
         null,
         null,
         "Caribbean",
         "Anguila",
         null,
         "安圭拉",
         "Anguilla",
         "ANGUILLA",
         null,
         "Americas",
         null,
         "Latin America and the Caribbean",
         "Ангилья",
         "World",
         "The Valley",
         null,
         ".ai",
         "en-AI",
         "3573511",
         "Anguilla",
         "1A",
         "https://www.wikidata.org/wiki/Q25228"
        ],
        [
         "2",
         "ALB",
         "355",
         "ALB",
         "aa",
         "Yes",
         "8",
         "3.0",
         "AL",
         "AB",
         "AL",
         "ALB",
         "ALB",
         "AL",
         "la República de Albania",
         "1",
         null,
         "Albanie",
         "Albanie (l')",
         "Lek",
         "Республика Албания",
         "Albania",
         "ALL",
         null,
         "Albania",
         "8",
         "阿尔巴尼亚共和国",
         "la République d'Albanie",
         "Албания",
         "8",
         "39.0",
         "150.0",
         "ألبانيا",
         "2",
         "جمهورية ألبانيا",
         "阿尔巴尼亚",
         null,
         null,
         "Albania",
         "the Republic of Albania",
         "阿尔巴尼亚",
         "Albania",
         "ALBANIA",
         null,
         "Europe",
         "ألبانيا",
         "Southern Europe",
         "Албания",
         "World",
         "Tirana",
         "EU",
         ".al",
         "sq,el",
         "783754",
         "Albania",
         "B3",
         "https://www.wikidata.org/wiki/Q222"
        ],
        [
         "3",
         "ALD",
         "358",
         "ALA",
         null,
         "Part of FI",
         "248",
         "1242.0",
         null,
         null,
         "AX",
         null,
         null,
         "FIN",
         null,
         "1",
         null,
         "Îles d’Åland",
         null,
         "Euro",
         null,
         null,
         "EUR",
         null,
         null,
         "978",
         null,
         null,
         null,
         "248",
         "154.0",
         "150.0",
         "جزر ألاند",
         "2",
         null,
         null,
         null,
         null,
         "Islas Åland",
         null,
         "奥兰群岛",
         "Åland Islands",
         "ÅLAND ISLANDS",
         null,
         "Europe",
         null,
         "Northern Europe",
         "Аландских островов",
         "World",
         "Mariehamn",
         "EU",
         ".ax",
         "sv-AX",
         "661882",
         "Kepulauan Aland",
         null,
         "https://www.wikidata.org/wiki/Q5689"
        ],
        [
         "4",
         "ALG",
         "213",
         "DZA",
         "ae",
         "Yes",
         "12",
         "4.0",
         "AG",
         "AL",
         "DZ",
         "ALG",
         "ALG",
         "DZ",
         "la República Argelina Democrática y Popular",
         "1",
         null,
         "Algérie",
         "Algérie (l')",
         "Algerian Dinar",
         "Алжирская Народная Демократическая Республика",
         "Algeria",
         "DZD",
         null,
         "Argelia",
         "12",
         "阿尔及利亚民主人民共和国",
         "la République algérienne démocratique et populaire",
         "Алжир",
         "12",
         "15.0",
         "2.0",
         "الجزائر",
         "2",
         "الجمهورية الجزائرية الديمقراطية الشعبية",
         "阿尔及利亚",
         null,
         null,
         "Argelia",
         "the People's Democratic Republic of Algeria",
         "阿尔及利亚",
         "Algeria",
         "ALGERIA",
         null,
         "Africa",
         "الجزائر",
         "Northern Africa",
         "Алжир",
         "World",
         "Algiers",
         "AF",
         ".dz",
         "ar-DZ",
         "2589581",
         "Algeria",
         "B4",
         "https://www.wikidata.org/wiki/Q262"
        ]
       ],
       "shape": {
        "columns": 56,
        "rows": 5
       }
      },
      "text/html": [
       "<div>\n",
       "<style scoped>\n",
       "    .dataframe tbody tr th:only-of-type {\n",
       "        vertical-align: middle;\n",
       "    }\n",
       "\n",
       "    .dataframe tbody tr th {\n",
       "        vertical-align: top;\n",
       "    }\n",
       "\n",
       "    .dataframe thead th {\n",
       "        text-align: right;\n",
       "    }\n",
       "</style>\n",
       "<table border=\"1\" class=\"dataframe\">\n",
       "  <thead>\n",
       "    <tr style=\"text-align: right;\">\n",
       "      <th></th>\n",
       "      <th>FIFA</th>\n",
       "      <th>Dial</th>\n",
       "      <th>ISO3166-1-Alpha-3</th>\n",
       "      <th>MARC</th>\n",
       "      <th>is_independent</th>\n",
       "      <th>ISO3166-1-numeric</th>\n",
       "      <th>GAUL</th>\n",
       "      <th>FIPS</th>\n",
       "      <th>WMO</th>\n",
       "      <th>ISO3166-1-Alpha-2</th>\n",
       "      <th>...</th>\n",
       "      <th>official_name_ru</th>\n",
       "      <th>Global Name</th>\n",
       "      <th>Capital</th>\n",
       "      <th>Continent</th>\n",
       "      <th>TLD</th>\n",
       "      <th>Languages</th>\n",
       "      <th>Geoname ID</th>\n",
       "      <th>CLDR display name</th>\n",
       "      <th>EDGAR</th>\n",
       "      <th>wikidata_id</th>\n",
       "    </tr>\n",
       "  </thead>\n",
       "  <tbody>\n",
       "    <tr>\n",
       "      <th>0</th>\n",
       "      <td>AFG</td>\n",
       "      <td>93</td>\n",
       "      <td>AFG</td>\n",
       "      <td>af</td>\n",
       "      <td>Yes</td>\n",
       "      <td>4</td>\n",
       "      <td>1.0</td>\n",
       "      <td>AF</td>\n",
       "      <td>AF</td>\n",
       "      <td>AF</td>\n",
       "      <td>...</td>\n",
       "      <td>Афганистан</td>\n",
       "      <td>World</td>\n",
       "      <td>Kabul</td>\n",
       "      <td>AS</td>\n",
       "      <td>.af</td>\n",
       "      <td>fa-AF,ps,uz-AF,tk</td>\n",
       "      <td>1149361</td>\n",
       "      <td>Afghanistan</td>\n",
       "      <td>B2</td>\n",
       "      <td>https://www.wikidata.org/wiki/Q889</td>\n",
       "    </tr>\n",
       "    <tr>\n",
       "      <th>1</th>\n",
       "      <td>AIA</td>\n",
       "      <td>1-264</td>\n",
       "      <td>AIA</td>\n",
       "      <td>am</td>\n",
       "      <td>Territory of GB</td>\n",
       "      <td>660</td>\n",
       "      <td>9.0</td>\n",
       "      <td>AV</td>\n",
       "      <td>NaN</td>\n",
       "      <td>AI</td>\n",
       "      <td>...</td>\n",
       "      <td>Ангилья</td>\n",
       "      <td>World</td>\n",
       "      <td>The Valley</td>\n",
       "      <td>NaN</td>\n",
       "      <td>.ai</td>\n",
       "      <td>en-AI</td>\n",
       "      <td>3573511</td>\n",
       "      <td>Anguilla</td>\n",
       "      <td>1A</td>\n",
       "      <td>https://www.wikidata.org/wiki/Q25228</td>\n",
       "    </tr>\n",
       "    <tr>\n",
       "      <th>2</th>\n",
       "      <td>ALB</td>\n",
       "      <td>355</td>\n",
       "      <td>ALB</td>\n",
       "      <td>aa</td>\n",
       "      <td>Yes</td>\n",
       "      <td>8</td>\n",
       "      <td>3.0</td>\n",
       "      <td>AL</td>\n",
       "      <td>AB</td>\n",
       "      <td>AL</td>\n",
       "      <td>...</td>\n",
       "      <td>Албания</td>\n",
       "      <td>World</td>\n",
       "      <td>Tirana</td>\n",
       "      <td>EU</td>\n",
       "      <td>.al</td>\n",
       "      <td>sq,el</td>\n",
       "      <td>783754</td>\n",
       "      <td>Albania</td>\n",
       "      <td>B3</td>\n",
       "      <td>https://www.wikidata.org/wiki/Q222</td>\n",
       "    </tr>\n",
       "    <tr>\n",
       "      <th>3</th>\n",
       "      <td>ALD</td>\n",
       "      <td>358</td>\n",
       "      <td>ALA</td>\n",
       "      <td>NaN</td>\n",
       "      <td>Part of FI</td>\n",
       "      <td>248</td>\n",
       "      <td>1242.0</td>\n",
       "      <td>NaN</td>\n",
       "      <td>NaN</td>\n",
       "      <td>AX</td>\n",
       "      <td>...</td>\n",
       "      <td>Аландских островов</td>\n",
       "      <td>World</td>\n",
       "      <td>Mariehamn</td>\n",
       "      <td>EU</td>\n",
       "      <td>.ax</td>\n",
       "      <td>sv-AX</td>\n",
       "      <td>661882</td>\n",
       "      <td>Kepulauan Aland</td>\n",
       "      <td>NaN</td>\n",
       "      <td>https://www.wikidata.org/wiki/Q5689</td>\n",
       "    </tr>\n",
       "    <tr>\n",
       "      <th>4</th>\n",
       "      <td>ALG</td>\n",
       "      <td>213</td>\n",
       "      <td>DZA</td>\n",
       "      <td>ae</td>\n",
       "      <td>Yes</td>\n",
       "      <td>12</td>\n",
       "      <td>4.0</td>\n",
       "      <td>AG</td>\n",
       "      <td>AL</td>\n",
       "      <td>DZ</td>\n",
       "      <td>...</td>\n",
       "      <td>Алжир</td>\n",
       "      <td>World</td>\n",
       "      <td>Algiers</td>\n",
       "      <td>AF</td>\n",
       "      <td>.dz</td>\n",
       "      <td>ar-DZ</td>\n",
       "      <td>2589581</td>\n",
       "      <td>Algeria</td>\n",
       "      <td>B4</td>\n",
       "      <td>https://www.wikidata.org/wiki/Q262</td>\n",
       "    </tr>\n",
       "  </tbody>\n",
       "</table>\n",
       "<p>5 rows × 56 columns</p>\n",
       "</div>"
      ],
      "text/plain": [
       "  FIFA   Dial ISO3166-1-Alpha-3 MARC   is_independent  ISO3166-1-numeric  \\\n",
       "0  AFG     93               AFG   af              Yes                  4   \n",
       "1  AIA  1-264               AIA   am  Territory of GB                660   \n",
       "2  ALB    355               ALB   aa              Yes                  8   \n",
       "3  ALD    358               ALA  NaN       Part of FI                248   \n",
       "4  ALG    213               DZA   ae              Yes                 12   \n",
       "\n",
       "     GAUL FIPS  WMO ISO3166-1-Alpha-2  ...    official_name_ru Global Name  \\\n",
       "0     1.0   AF   AF                AF  ...          Афганистан       World   \n",
       "1     9.0   AV  NaN                AI  ...             Ангилья       World   \n",
       "2     3.0   AL   AB                AL  ...             Албания       World   \n",
       "3  1242.0  NaN  NaN                AX  ...  Аландских островов       World   \n",
       "4     4.0   AG   AL                DZ  ...               Алжир       World   \n",
       "\n",
       "      Capital Continent  TLD          Languages Geoname ID CLDR display name  \\\n",
       "0       Kabul        AS  .af  fa-AF,ps,uz-AF,tk    1149361       Afghanistan   \n",
       "1  The Valley       NaN  .ai              en-AI    3573511          Anguilla   \n",
       "2      Tirana        EU  .al              sq,el     783754           Albania   \n",
       "3   Mariehamn        EU  .ax              sv-AX     661882   Kepulauan Aland   \n",
       "4     Algiers        AF  .dz              ar-DZ    2589581           Algeria   \n",
       "\n",
       "  EDGAR                           wikidata_id  \n",
       "0    B2    https://www.wikidata.org/wiki/Q889  \n",
       "1    1A  https://www.wikidata.org/wiki/Q25228  \n",
       "2    B3    https://www.wikidata.org/wiki/Q222  \n",
       "3   NaN   https://www.wikidata.org/wiki/Q5689  \n",
       "4    B4    https://www.wikidata.org/wiki/Q262  \n",
       "\n",
       "[5 rows x 56 columns]"
      ]
     },
     "execution_count": 2,
     "metadata": {},
     "output_type": "execute_result"
    }
   ],
   "source": [
    "# Importation du fichier PaysISO.csv\n",
    "df_pays = pd.read_csv(\"../data/PaysISO.csv\")\n",
    "df_pays.head()"
   ]
  },
  {
   "cell_type": "code",
   "execution_count": 3,
   "metadata": {},
   "outputs": [
    {
     "data": {
      "application/vnd.microsoft.datawrangler.viewer.v0+json": {
       "columns": [
        {
         "name": "index",
         "rawType": "int64",
         "type": "integer"
        },
        {
         "name": "ISO3166-1-Alpha-3",
         "rawType": "object",
         "type": "string"
        },
        {
         "name": "official_name_fr",
         "rawType": "object",
         "type": "string"
        },
        {
         "name": "M49",
         "rawType": "int64",
         "type": "integer"
        },
        {
         "name": "official_name_en",
         "rawType": "object",
         "type": "string"
        },
        {
         "name": "Region Name",
         "rawType": "object",
         "type": "string"
        },
        {
         "name": "Sub-region Name",
         "rawType": "object",
         "type": "string"
        }
       ],
       "conversionMethod": "pd.DataFrame",
       "ref": "c8f667e0-3e18-4fad-b61c-9c78e4aefb3b",
       "rows": [
        [
         "0",
         "AFG",
         "Afghanistan",
         "4",
         "Afghanistan",
         "Asia",
         "Southern Asia"
        ],
        [
         "1",
         "AIA",
         "Anguilla",
         "660",
         "Anguilla",
         "Americas",
         "Latin America and the Caribbean"
        ],
        [
         "2",
         "ALB",
         "Albanie",
         "8",
         "Albania",
         "Europe",
         "Southern Europe"
        ],
        [
         "3",
         "ALA",
         "Îles d’Åland",
         "248",
         "Åland Islands",
         "Europe",
         "Northern Europe"
        ],
        [
         "4",
         "DZA",
         "Algérie",
         "12",
         "Algeria",
         "Africa",
         "Northern Africa"
        ]
       ],
       "shape": {
        "columns": 6,
        "rows": 5
       }
      },
      "text/html": [
       "<div>\n",
       "<style scoped>\n",
       "    .dataframe tbody tr th:only-of-type {\n",
       "        vertical-align: middle;\n",
       "    }\n",
       "\n",
       "    .dataframe tbody tr th {\n",
       "        vertical-align: top;\n",
       "    }\n",
       "\n",
       "    .dataframe thead th {\n",
       "        text-align: right;\n",
       "    }\n",
       "</style>\n",
       "<table border=\"1\" class=\"dataframe\">\n",
       "  <thead>\n",
       "    <tr style=\"text-align: right;\">\n",
       "      <th></th>\n",
       "      <th>ISO3166-1-Alpha-3</th>\n",
       "      <th>official_name_fr</th>\n",
       "      <th>M49</th>\n",
       "      <th>official_name_en</th>\n",
       "      <th>Region Name</th>\n",
       "      <th>Sub-region Name</th>\n",
       "    </tr>\n",
       "  </thead>\n",
       "  <tbody>\n",
       "    <tr>\n",
       "      <th>0</th>\n",
       "      <td>AFG</td>\n",
       "      <td>Afghanistan</td>\n",
       "      <td>4</td>\n",
       "      <td>Afghanistan</td>\n",
       "      <td>Asia</td>\n",
       "      <td>Southern Asia</td>\n",
       "    </tr>\n",
       "    <tr>\n",
       "      <th>1</th>\n",
       "      <td>AIA</td>\n",
       "      <td>Anguilla</td>\n",
       "      <td>660</td>\n",
       "      <td>Anguilla</td>\n",
       "      <td>Americas</td>\n",
       "      <td>Latin America and the Caribbean</td>\n",
       "    </tr>\n",
       "    <tr>\n",
       "      <th>2</th>\n",
       "      <td>ALB</td>\n",
       "      <td>Albanie</td>\n",
       "      <td>8</td>\n",
       "      <td>Albania</td>\n",
       "      <td>Europe</td>\n",
       "      <td>Southern Europe</td>\n",
       "    </tr>\n",
       "    <tr>\n",
       "      <th>3</th>\n",
       "      <td>ALA</td>\n",
       "      <td>Îles d’Åland</td>\n",
       "      <td>248</td>\n",
       "      <td>Åland Islands</td>\n",
       "      <td>Europe</td>\n",
       "      <td>Northern Europe</td>\n",
       "    </tr>\n",
       "    <tr>\n",
       "      <th>4</th>\n",
       "      <td>DZA</td>\n",
       "      <td>Algérie</td>\n",
       "      <td>12</td>\n",
       "      <td>Algeria</td>\n",
       "      <td>Africa</td>\n",
       "      <td>Northern Africa</td>\n",
       "    </tr>\n",
       "  </tbody>\n",
       "</table>\n",
       "</div>"
      ],
      "text/plain": [
       "  ISO3166-1-Alpha-3 official_name_fr  M49 official_name_en Region Name  \\\n",
       "0               AFG      Afghanistan    4      Afghanistan        Asia   \n",
       "1               AIA         Anguilla  660         Anguilla    Americas   \n",
       "2               ALB          Albanie    8          Albania      Europe   \n",
       "3               ALA     Îles d’Åland  248    Åland Islands      Europe   \n",
       "4               DZA          Algérie   12          Algeria      Africa   \n",
       "\n",
       "                   Sub-region Name  \n",
       "0                    Southern Asia  \n",
       "1  Latin America and the Caribbean  \n",
       "2                  Southern Europe  \n",
       "3                  Northern Europe  \n",
       "4                  Northern Africa  "
      ]
     },
     "execution_count": 3,
     "metadata": {},
     "output_type": "execute_result"
    }
   ],
   "source": [
    "# Suppression des colonnes inutiles\n",
    "df_pays.drop(columns=['FIFA', 'Dial', 'MARC', 'is_independent', 'ISO3166-1-numeric', 'GAUL', 'UNTERM English Short',\n",
    "                      'FIPS', 'WMO', 'ISO3166-1-Alpha-2', 'ITU', 'IOC', 'DS', 'UNTERM Spanish Formal',\n",
    "                      'Global Code', 'Intermediate Region Code', 'UNTERM French Short', 'ISO4217-currency_name',\n",
    "                      'UNTERM Russian Formal', 'UNTERM English Formal', 'ISO4217-currency_alphabetic_code',\n",
    "                      'Small Island Developing States (SIDS)', 'UNTERM Spanish Short', 'ISO4217-currency_numeric_code',\n",
    "                      'UNTERM Chinese Short', 'UNTERM French Formal', 'UNTERM Russian Short', 'official_name_ar',\n",
    "                      'ISO4217-currency_minor_unit', 'UNTERM Arabic Formal', 'UNTERM Chinese Formal',\n",
    "                      'Land Locked Developing Countries (LLDC)', 'Intermediate Region Name', 'official_name_es',\n",
    "                      'UNTERM English Formal', 'official_name_cn', 'ISO4217-currency_country_name',\n",
    "                      'Least Developed Countries (LDC)', 'UNTERM Arabic Short', 'official_name_ru', 'Global Name',\n",
    "                      'Capital', 'Continent', 'TLD', 'Languages', 'Geoname ID', 'CLDR display name',\n",
    "                      'EDGAR', 'wikidata_id', 'Sub-region Code', 'Region Code'], inplace=True)\n",
    "df_pays.head()"
   ]
  },
  {
   "cell_type": "code",
   "execution_count": 4,
   "metadata": {},
   "outputs": [
    {
     "data": {
      "application/vnd.microsoft.datawrangler.viewer.v0+json": {
       "columns": [
        {
         "name": "index",
         "rawType": "int64",
         "type": "integer"
        },
        {
         "name": "ISO",
         "rawType": "object",
         "type": "string"
        },
        {
         "name": "Pays",
         "rawType": "object",
         "type": "string"
        },
        {
         "name": "M49",
         "rawType": "int64",
         "type": "integer"
        },
        {
         "name": "Countries",
         "rawType": "object",
         "type": "string"
        },
        {
         "name": "Region",
         "rawType": "object",
         "type": "string"
        },
        {
         "name": "Sub-region",
         "rawType": "object",
         "type": "string"
        }
       ],
       "conversionMethod": "pd.DataFrame",
       "ref": "8707271c-333a-461e-8952-e84763b5e6f8",
       "rows": [
        [
         "0",
         "AFG",
         "Afghanistan",
         "4",
         "Afghanistan",
         "Asia",
         "Southern Asia"
        ],
        [
         "1",
         "AIA",
         "Anguilla",
         "660",
         "Anguilla",
         "Americas",
         "Latin America and the Caribbean"
        ],
        [
         "2",
         "ALB",
         "Albanie",
         "8",
         "Albania",
         "Europe",
         "Southern Europe"
        ],
        [
         "3",
         "ALA",
         "Îles d’Åland",
         "248",
         "Åland Islands",
         "Europe",
         "Northern Europe"
        ],
        [
         "4",
         "DZA",
         "Algérie",
         "12",
         "Algeria",
         "Africa",
         "Northern Africa"
        ]
       ],
       "shape": {
        "columns": 6,
        "rows": 5
       }
      },
      "text/html": [
       "<div>\n",
       "<style scoped>\n",
       "    .dataframe tbody tr th:only-of-type {\n",
       "        vertical-align: middle;\n",
       "    }\n",
       "\n",
       "    .dataframe tbody tr th {\n",
       "        vertical-align: top;\n",
       "    }\n",
       "\n",
       "    .dataframe thead th {\n",
       "        text-align: right;\n",
       "    }\n",
       "</style>\n",
       "<table border=\"1\" class=\"dataframe\">\n",
       "  <thead>\n",
       "    <tr style=\"text-align: right;\">\n",
       "      <th></th>\n",
       "      <th>ISO</th>\n",
       "      <th>Pays</th>\n",
       "      <th>M49</th>\n",
       "      <th>Countries</th>\n",
       "      <th>Region</th>\n",
       "      <th>Sub-region</th>\n",
       "    </tr>\n",
       "  </thead>\n",
       "  <tbody>\n",
       "    <tr>\n",
       "      <th>0</th>\n",
       "      <td>AFG</td>\n",
       "      <td>Afghanistan</td>\n",
       "      <td>4</td>\n",
       "      <td>Afghanistan</td>\n",
       "      <td>Asia</td>\n",
       "      <td>Southern Asia</td>\n",
       "    </tr>\n",
       "    <tr>\n",
       "      <th>1</th>\n",
       "      <td>AIA</td>\n",
       "      <td>Anguilla</td>\n",
       "      <td>660</td>\n",
       "      <td>Anguilla</td>\n",
       "      <td>Americas</td>\n",
       "      <td>Latin America and the Caribbean</td>\n",
       "    </tr>\n",
       "    <tr>\n",
       "      <th>2</th>\n",
       "      <td>ALB</td>\n",
       "      <td>Albanie</td>\n",
       "      <td>8</td>\n",
       "      <td>Albania</td>\n",
       "      <td>Europe</td>\n",
       "      <td>Southern Europe</td>\n",
       "    </tr>\n",
       "    <tr>\n",
       "      <th>3</th>\n",
       "      <td>ALA</td>\n",
       "      <td>Îles d’Åland</td>\n",
       "      <td>248</td>\n",
       "      <td>Åland Islands</td>\n",
       "      <td>Europe</td>\n",
       "      <td>Northern Europe</td>\n",
       "    </tr>\n",
       "    <tr>\n",
       "      <th>4</th>\n",
       "      <td>DZA</td>\n",
       "      <td>Algérie</td>\n",
       "      <td>12</td>\n",
       "      <td>Algeria</td>\n",
       "      <td>Africa</td>\n",
       "      <td>Northern Africa</td>\n",
       "    </tr>\n",
       "  </tbody>\n",
       "</table>\n",
       "</div>"
      ],
      "text/plain": [
       "   ISO          Pays  M49      Countries    Region  \\\n",
       "0  AFG   Afghanistan    4    Afghanistan      Asia   \n",
       "1  AIA      Anguilla  660       Anguilla  Americas   \n",
       "2  ALB       Albanie    8        Albania    Europe   \n",
       "3  ALA  Îles d’Åland  248  Åland Islands    Europe   \n",
       "4  DZA       Algérie   12        Algeria    Africa   \n",
       "\n",
       "                        Sub-region  \n",
       "0                    Southern Asia  \n",
       "1  Latin America and the Caribbean  \n",
       "2                  Southern Europe  \n",
       "3                  Northern Europe  \n",
       "4                  Northern Africa  "
      ]
     },
     "execution_count": 4,
     "metadata": {},
     "output_type": "execute_result"
    }
   ],
   "source": [
    "df_pays.rename(columns={'ISO3166-1-Alpha-3': 'ISO', 'official_name_fr': 'Pays', 'official_name_en': 'Countries',\n",
    "                        'Region Name': 'Region', 'Sub-region Name': 'Sub-region'}, inplace=True)\n",
    "df_pays.head()"
   ]
  },
  {
   "cell_type": "markdown",
   "metadata": {},
   "source": [
    "### 1.3 - Chargement des données Population (Source : FAO)"
   ]
  },
  {
   "cell_type": "code",
   "execution_count": 5,
   "metadata": {},
   "outputs": [
    {
     "name": "stdout",
     "output_type": "stream",
     "text": [
      "Le dataframe Population comporte 4411 observation(s) et 15 colonne(s).\n"
     ]
    }
   ],
   "source": [
    "# Importation du fichier Population_2000_2018.csv\n",
    "df_population = pd.read_csv(\"../data/Population_2000_2018.csv\", sep=';')\n",
    "# Afficher les dimmensions du dataset\n",
    "print(\"Le dataframe Population comporte {} observation(s) et {} colonne(s).\".format(df_population.shape[0], df_population.shape[1]))"
   ]
  },
  {
   "cell_type": "code",
   "execution_count": 6,
   "metadata": {},
   "outputs": [
    {
     "data": {
      "application/vnd.microsoft.datawrangler.viewer.v0+json": {
       "columns": [
        {
         "name": "index",
         "rawType": "int64",
         "type": "integer"
        },
        {
         "name": "Code Domaine",
         "rawType": "object",
         "type": "string"
        },
        {
         "name": "Domaine",
         "rawType": "object",
         "type": "string"
        },
        {
         "name": "Code zone",
         "rawType": "int64",
         "type": "integer"
        },
        {
         "name": "Zone",
         "rawType": "object",
         "type": "string"
        },
        {
         "name": "Code Élément",
         "rawType": "int64",
         "type": "integer"
        },
        {
         "name": "Élément",
         "rawType": "object",
         "type": "string"
        },
        {
         "name": "Code Produit",
         "rawType": "int64",
         "type": "integer"
        },
        {
         "name": "Produit",
         "rawType": "object",
         "type": "string"
        },
        {
         "name": "Code année",
         "rawType": "int64",
         "type": "integer"
        },
        {
         "name": "Année",
         "rawType": "int64",
         "type": "integer"
        },
        {
         "name": "Unité",
         "rawType": "object",
         "type": "string"
        },
        {
         "name": "Valeur",
         "rawType": "float64",
         "type": "float"
        },
        {
         "name": "Symbole",
         "rawType": "object",
         "type": "string"
        },
        {
         "name": "Description du Symbole",
         "rawType": "object",
         "type": "string"
        },
        {
         "name": "Note",
         "rawType": "object",
         "type": "unknown"
        }
       ],
       "conversionMethod": "pd.DataFrame",
       "ref": "e007ad7c-1908-4cf3-b06b-14d22acce285",
       "rows": [
        [
         "0",
         "OA",
         "Séries temporelles annuelles",
         "2",
         "Afghanistan",
         "511",
         "Population totale",
         "3010",
         "Population-Estimations",
         "2000",
         "2000",
         "1000 personnes",
         "20779.953",
         "X",
         "Sources internationales sûres",
         null
        ],
        [
         "1",
         "OA",
         "Séries temporelles annuelles",
         "2",
         "Afghanistan",
         "511",
         "Population totale",
         "3010",
         "Population-Estimations",
         "2001",
         "2001",
         "1000 personnes",
         "21606.988",
         "X",
         "Sources internationales sûres",
         null
        ],
        [
         "2",
         "OA",
         "Séries temporelles annuelles",
         "2",
         "Afghanistan",
         "511",
         "Population totale",
         "3010",
         "Population-Estimations",
         "2002",
         "2002",
         "1000 personnes",
         "22600.77",
         "X",
         "Sources internationales sûres",
         null
        ],
        [
         "3",
         "OA",
         "Séries temporelles annuelles",
         "2",
         "Afghanistan",
         "511",
         "Population totale",
         "3010",
         "Population-Estimations",
         "2003",
         "2003",
         "1000 personnes",
         "23680.871",
         "X",
         "Sources internationales sûres",
         null
        ],
        [
         "4",
         "OA",
         "Séries temporelles annuelles",
         "2",
         "Afghanistan",
         "511",
         "Population totale",
         "3010",
         "Population-Estimations",
         "2004",
         "2004",
         "1000 personnes",
         "24726.684",
         "X",
         "Sources internationales sûres",
         null
        ]
       ],
       "shape": {
        "columns": 15,
        "rows": 5
       }
      },
      "text/html": [
       "<div>\n",
       "<style scoped>\n",
       "    .dataframe tbody tr th:only-of-type {\n",
       "        vertical-align: middle;\n",
       "    }\n",
       "\n",
       "    .dataframe tbody tr th {\n",
       "        vertical-align: top;\n",
       "    }\n",
       "\n",
       "    .dataframe thead th {\n",
       "        text-align: right;\n",
       "    }\n",
       "</style>\n",
       "<table border=\"1\" class=\"dataframe\">\n",
       "  <thead>\n",
       "    <tr style=\"text-align: right;\">\n",
       "      <th></th>\n",
       "      <th>Code Domaine</th>\n",
       "      <th>Domaine</th>\n",
       "      <th>Code zone</th>\n",
       "      <th>Zone</th>\n",
       "      <th>Code Élément</th>\n",
       "      <th>Élément</th>\n",
       "      <th>Code Produit</th>\n",
       "      <th>Produit</th>\n",
       "      <th>Code année</th>\n",
       "      <th>Année</th>\n",
       "      <th>Unité</th>\n",
       "      <th>Valeur</th>\n",
       "      <th>Symbole</th>\n",
       "      <th>Description du Symbole</th>\n",
       "      <th>Note</th>\n",
       "    </tr>\n",
       "  </thead>\n",
       "  <tbody>\n",
       "    <tr>\n",
       "      <th>0</th>\n",
       "      <td>OA</td>\n",
       "      <td>Séries temporelles annuelles</td>\n",
       "      <td>2</td>\n",
       "      <td>Afghanistan</td>\n",
       "      <td>511</td>\n",
       "      <td>Population totale</td>\n",
       "      <td>3010</td>\n",
       "      <td>Population-Estimations</td>\n",
       "      <td>2000</td>\n",
       "      <td>2000</td>\n",
       "      <td>1000 personnes</td>\n",
       "      <td>20779.953</td>\n",
       "      <td>X</td>\n",
       "      <td>Sources internationales sûres</td>\n",
       "      <td>NaN</td>\n",
       "    </tr>\n",
       "    <tr>\n",
       "      <th>1</th>\n",
       "      <td>OA</td>\n",
       "      <td>Séries temporelles annuelles</td>\n",
       "      <td>2</td>\n",
       "      <td>Afghanistan</td>\n",
       "      <td>511</td>\n",
       "      <td>Population totale</td>\n",
       "      <td>3010</td>\n",
       "      <td>Population-Estimations</td>\n",
       "      <td>2001</td>\n",
       "      <td>2001</td>\n",
       "      <td>1000 personnes</td>\n",
       "      <td>21606.988</td>\n",
       "      <td>X</td>\n",
       "      <td>Sources internationales sûres</td>\n",
       "      <td>NaN</td>\n",
       "    </tr>\n",
       "    <tr>\n",
       "      <th>2</th>\n",
       "      <td>OA</td>\n",
       "      <td>Séries temporelles annuelles</td>\n",
       "      <td>2</td>\n",
       "      <td>Afghanistan</td>\n",
       "      <td>511</td>\n",
       "      <td>Population totale</td>\n",
       "      <td>3010</td>\n",
       "      <td>Population-Estimations</td>\n",
       "      <td>2002</td>\n",
       "      <td>2002</td>\n",
       "      <td>1000 personnes</td>\n",
       "      <td>22600.770</td>\n",
       "      <td>X</td>\n",
       "      <td>Sources internationales sûres</td>\n",
       "      <td>NaN</td>\n",
       "    </tr>\n",
       "    <tr>\n",
       "      <th>3</th>\n",
       "      <td>OA</td>\n",
       "      <td>Séries temporelles annuelles</td>\n",
       "      <td>2</td>\n",
       "      <td>Afghanistan</td>\n",
       "      <td>511</td>\n",
       "      <td>Population totale</td>\n",
       "      <td>3010</td>\n",
       "      <td>Population-Estimations</td>\n",
       "      <td>2003</td>\n",
       "      <td>2003</td>\n",
       "      <td>1000 personnes</td>\n",
       "      <td>23680.871</td>\n",
       "      <td>X</td>\n",
       "      <td>Sources internationales sûres</td>\n",
       "      <td>NaN</td>\n",
       "    </tr>\n",
       "    <tr>\n",
       "      <th>4</th>\n",
       "      <td>OA</td>\n",
       "      <td>Séries temporelles annuelles</td>\n",
       "      <td>2</td>\n",
       "      <td>Afghanistan</td>\n",
       "      <td>511</td>\n",
       "      <td>Population totale</td>\n",
       "      <td>3010</td>\n",
       "      <td>Population-Estimations</td>\n",
       "      <td>2004</td>\n",
       "      <td>2004</td>\n",
       "      <td>1000 personnes</td>\n",
       "      <td>24726.684</td>\n",
       "      <td>X</td>\n",
       "      <td>Sources internationales sûres</td>\n",
       "      <td>NaN</td>\n",
       "    </tr>\n",
       "  </tbody>\n",
       "</table>\n",
       "</div>"
      ],
      "text/plain": [
       "  Code Domaine                       Domaine  Code zone         Zone  \\\n",
       "0           OA  Séries temporelles annuelles          2  Afghanistan   \n",
       "1           OA  Séries temporelles annuelles          2  Afghanistan   \n",
       "2           OA  Séries temporelles annuelles          2  Afghanistan   \n",
       "3           OA  Séries temporelles annuelles          2  Afghanistan   \n",
       "4           OA  Séries temporelles annuelles          2  Afghanistan   \n",
       "\n",
       "   Code Élément            Élément  Code Produit                 Produit  \\\n",
       "0           511  Population totale          3010  Population-Estimations   \n",
       "1           511  Population totale          3010  Population-Estimations   \n",
       "2           511  Population totale          3010  Population-Estimations   \n",
       "3           511  Population totale          3010  Population-Estimations   \n",
       "4           511  Population totale          3010  Population-Estimations   \n",
       "\n",
       "   Code année  Année           Unité     Valeur Symbole  \\\n",
       "0        2000   2000  1000 personnes  20779.953       X   \n",
       "1        2001   2001  1000 personnes  21606.988       X   \n",
       "2        2002   2002  1000 personnes  22600.770       X   \n",
       "3        2003   2003  1000 personnes  23680.871       X   \n",
       "4        2004   2004  1000 personnes  24726.684       X   \n",
       "\n",
       "          Description du Symbole Note  \n",
       "0  Sources internationales sûres  NaN  \n",
       "1  Sources internationales sûres  NaN  \n",
       "2  Sources internationales sûres  NaN  \n",
       "3  Sources internationales sûres  NaN  \n",
       "4  Sources internationales sûres  NaN  "
      ]
     },
     "execution_count": 6,
     "metadata": {},
     "output_type": "execute_result"
    }
   ],
   "source": [
    "df_population.head()"
   ]
  },
  {
   "cell_type": "code",
   "execution_count": 7,
   "metadata": {},
   "outputs": [],
   "source": [
    "# Suppression des colonnes inutiles\n",
    "df_population.drop(columns=['Code Domaine', 'Code zone', 'Domaine', 'Code Élément', 'Élément', 'Code Produit', 'Produit', 'Code année', 'Unité', 'Symbole', 'Description du Symbole', 'Note'], inplace=True)\n",
    "# Modification des noms de colonnes\n",
    "df_population.rename(columns={'Valeur': 'Population', 'Zone': 'Pays'}, inplace=True)\n",
    "# Correction de l'unité de la population\n",
    "df_population['Population'] = df_population['Population'] * 1000"
   ]
  },
  {
   "cell_type": "code",
   "execution_count": 8,
   "metadata": {},
   "outputs": [],
   "source": [
    "# Récupérer la valeur la plus actuelle\n",
    "df_population = df_population.loc[df_population.groupby('Pays').Année.idxmax()]\n",
    "# Suppression de la colonne Année\n",
    "df_population.drop(columns=['Année'], inplace=True)\n",
    "# Reset de l'index\n",
    "df_population.reset_index(drop=True, inplace=True)"
   ]
  },
  {
   "cell_type": "code",
   "execution_count": 9,
   "metadata": {},
   "outputs": [
    {
     "data": {
      "application/vnd.microsoft.datawrangler.viewer.v0+json": {
       "columns": [
        {
         "name": "index",
         "rawType": "int64",
         "type": "integer"
        },
        {
         "name": "Pays",
         "rawType": "object",
         "type": "string"
        },
        {
         "name": "Population",
         "rawType": "float64",
         "type": "float"
        }
       ],
       "conversionMethod": "pd.DataFrame",
       "ref": "127870e6-7322-4fea-93da-9bb832c21a12",
       "rows": [
        [
         "0",
         "Afghanistan",
         "37171921.0"
        ],
        [
         "1",
         "Afrique du Sud",
         "57792518.0"
        ],
        [
         "2",
         "Albanie",
         "2882740.0"
        ],
        [
         "3",
         "Algérie",
         "42228408.0"
        ],
        [
         "4",
         "Allemagne",
         "83124418.0"
        ]
       ],
       "shape": {
        "columns": 2,
        "rows": 5
       }
      },
      "text/html": [
       "<div>\n",
       "<style scoped>\n",
       "    .dataframe tbody tr th:only-of-type {\n",
       "        vertical-align: middle;\n",
       "    }\n",
       "\n",
       "    .dataframe tbody tr th {\n",
       "        vertical-align: top;\n",
       "    }\n",
       "\n",
       "    .dataframe thead th {\n",
       "        text-align: right;\n",
       "    }\n",
       "</style>\n",
       "<table border=\"1\" class=\"dataframe\">\n",
       "  <thead>\n",
       "    <tr style=\"text-align: right;\">\n",
       "      <th></th>\n",
       "      <th>Pays</th>\n",
       "      <th>Population</th>\n",
       "    </tr>\n",
       "  </thead>\n",
       "  <tbody>\n",
       "    <tr>\n",
       "      <th>0</th>\n",
       "      <td>Afghanistan</td>\n",
       "      <td>37171921.0</td>\n",
       "    </tr>\n",
       "    <tr>\n",
       "      <th>1</th>\n",
       "      <td>Afrique du Sud</td>\n",
       "      <td>57792518.0</td>\n",
       "    </tr>\n",
       "    <tr>\n",
       "      <th>2</th>\n",
       "      <td>Albanie</td>\n",
       "      <td>2882740.0</td>\n",
       "    </tr>\n",
       "    <tr>\n",
       "      <th>3</th>\n",
       "      <td>Algérie</td>\n",
       "      <td>42228408.0</td>\n",
       "    </tr>\n",
       "    <tr>\n",
       "      <th>4</th>\n",
       "      <td>Allemagne</td>\n",
       "      <td>83124418.0</td>\n",
       "    </tr>\n",
       "  </tbody>\n",
       "</table>\n",
       "</div>"
      ],
      "text/plain": [
       "             Pays  Population\n",
       "0     Afghanistan  37171921.0\n",
       "1  Afrique du Sud  57792518.0\n",
       "2         Albanie   2882740.0\n",
       "3         Algérie  42228408.0\n",
       "4       Allemagne  83124418.0"
      ]
     },
     "execution_count": 9,
     "metadata": {},
     "output_type": "execute_result"
    }
   ],
   "source": [
    "df_population.head()"
   ]
  },
  {
   "cell_type": "markdown",
   "metadata": {},
   "source": [
    "### 1.4 - Chargement des données Bilan Alimentaire (Source : FAO)"
   ]
  },
  {
   "cell_type": "code",
   "execution_count": 10,
   "metadata": {},
   "outputs": [
    {
     "name": "stdout",
     "output_type": "stream",
     "text": [
      "Le dataframe Bilan Alimentaire comporte 9030 observation(s) et 15 colonne(s).\n"
     ]
    }
   ],
   "source": [
    "# Importation du fichier BilanAlimentaire.csv\n",
    "df_bilanalim = pd.read_csv(\"../data/BilanAlimentaire.csv\")\n",
    "# Afficher les dimmensions du dataset\n",
    "print(\"Le dataframe Bilan Alimentaire comporte {} observation(s) et {} colonne(s).\".format(df_bilanalim.shape[0], df_bilanalim.shape[1]))"
   ]
  },
  {
   "cell_type": "code",
   "execution_count": 11,
   "metadata": {},
   "outputs": [
    {
     "data": {
      "application/vnd.microsoft.datawrangler.viewer.v0+json": {
       "columns": [
        {
         "name": "index",
         "rawType": "int64",
         "type": "integer"
        },
        {
         "name": "Code Domaine",
         "rawType": "object",
         "type": "string"
        },
        {
         "name": "Domaine",
         "rawType": "object",
         "type": "string"
        },
        {
         "name": "Code zone (M49)",
         "rawType": "int64",
         "type": "integer"
        },
        {
         "name": "Zone",
         "rawType": "object",
         "type": "string"
        },
        {
         "name": "Code Élément",
         "rawType": "int64",
         "type": "integer"
        },
        {
         "name": "Élément",
         "rawType": "object",
         "type": "string"
        },
        {
         "name": "Code Produit (FBS)",
         "rawType": "object",
         "type": "string"
        },
        {
         "name": "Produit",
         "rawType": "object",
         "type": "string"
        },
        {
         "name": "Code année",
         "rawType": "int64",
         "type": "integer"
        },
        {
         "name": "Année",
         "rawType": "int64",
         "type": "integer"
        },
        {
         "name": "Unité",
         "rawType": "object",
         "type": "string"
        },
        {
         "name": "Valeur",
         "rawType": "int64",
         "type": "integer"
        },
        {
         "name": "Symbole",
         "rawType": "object",
         "type": "string"
        },
        {
         "name": "Description du Symbole",
         "rawType": "object",
         "type": "string"
        },
        {
         "name": "Note",
         "rawType": "float64",
         "type": "float"
        }
       ],
       "conversionMethod": "pd.DataFrame",
       "ref": "d69b023a-4ede-4ef1-a801-a6dd7964ab8c",
       "rows": [
        [
         "0",
         "FBS",
         "Bilans Alimentaires (2010-)",
         "4",
         "Afghanistan",
         "5511",
         "Production",
         "S2734",
         "Viande de Volailles",
         "2010",
         "2010",
         "1000 t",
         "28",
         "I",
         "Valeur imputée",
         null
        ],
        [
         "1",
         "FBS",
         "Bilans Alimentaires (2010-)",
         "4",
         "Afghanistan",
         "5611",
         "Importations - quantité",
         "S2734",
         "Viande de Volailles",
         "2010",
         "2010",
         "1000 t",
         "39",
         "I",
         "Valeur imputée",
         null
        ],
        [
         "2",
         "FBS",
         "Bilans Alimentaires (2010-)",
         "4",
         "Afghanistan",
         "5142",
         "Nourriture",
         "S2734",
         "Viande de Volailles",
         "2010",
         "2010",
         "1000 t",
         "65",
         "I",
         "Valeur imputée",
         null
        ],
        [
         "3",
         "FBS",
         "Bilans Alimentaires (2010-)",
         "4",
         "Afghanistan",
         "5511",
         "Production",
         "S2734",
         "Viande de Volailles",
         "2011",
         "2011",
         "1000 t",
         "26",
         "I",
         "Valeur imputée",
         null
        ],
        [
         "4",
         "FBS",
         "Bilans Alimentaires (2010-)",
         "4",
         "Afghanistan",
         "5611",
         "Importations - quantité",
         "S2734",
         "Viande de Volailles",
         "2011",
         "2011",
         "1000 t",
         "51",
         "I",
         "Valeur imputée",
         null
        ]
       ],
       "shape": {
        "columns": 15,
        "rows": 5
       }
      },
      "text/html": [
       "<div>\n",
       "<style scoped>\n",
       "    .dataframe tbody tr th:only-of-type {\n",
       "        vertical-align: middle;\n",
       "    }\n",
       "\n",
       "    .dataframe tbody tr th {\n",
       "        vertical-align: top;\n",
       "    }\n",
       "\n",
       "    .dataframe thead th {\n",
       "        text-align: right;\n",
       "    }\n",
       "</style>\n",
       "<table border=\"1\" class=\"dataframe\">\n",
       "  <thead>\n",
       "    <tr style=\"text-align: right;\">\n",
       "      <th></th>\n",
       "      <th>Code Domaine</th>\n",
       "      <th>Domaine</th>\n",
       "      <th>Code zone (M49)</th>\n",
       "      <th>Zone</th>\n",
       "      <th>Code Élément</th>\n",
       "      <th>Élément</th>\n",
       "      <th>Code Produit (FBS)</th>\n",
       "      <th>Produit</th>\n",
       "      <th>Code année</th>\n",
       "      <th>Année</th>\n",
       "      <th>Unité</th>\n",
       "      <th>Valeur</th>\n",
       "      <th>Symbole</th>\n",
       "      <th>Description du Symbole</th>\n",
       "      <th>Note</th>\n",
       "    </tr>\n",
       "  </thead>\n",
       "  <tbody>\n",
       "    <tr>\n",
       "      <th>0</th>\n",
       "      <td>FBS</td>\n",
       "      <td>Bilans Alimentaires (2010-)</td>\n",
       "      <td>4</td>\n",
       "      <td>Afghanistan</td>\n",
       "      <td>5511</td>\n",
       "      <td>Production</td>\n",
       "      <td>S2734</td>\n",
       "      <td>Viande de Volailles</td>\n",
       "      <td>2010</td>\n",
       "      <td>2010</td>\n",
       "      <td>1000 t</td>\n",
       "      <td>28</td>\n",
       "      <td>I</td>\n",
       "      <td>Valeur imputée</td>\n",
       "      <td>NaN</td>\n",
       "    </tr>\n",
       "    <tr>\n",
       "      <th>1</th>\n",
       "      <td>FBS</td>\n",
       "      <td>Bilans Alimentaires (2010-)</td>\n",
       "      <td>4</td>\n",
       "      <td>Afghanistan</td>\n",
       "      <td>5611</td>\n",
       "      <td>Importations - quantité</td>\n",
       "      <td>S2734</td>\n",
       "      <td>Viande de Volailles</td>\n",
       "      <td>2010</td>\n",
       "      <td>2010</td>\n",
       "      <td>1000 t</td>\n",
       "      <td>39</td>\n",
       "      <td>I</td>\n",
       "      <td>Valeur imputée</td>\n",
       "      <td>NaN</td>\n",
       "    </tr>\n",
       "    <tr>\n",
       "      <th>2</th>\n",
       "      <td>FBS</td>\n",
       "      <td>Bilans Alimentaires (2010-)</td>\n",
       "      <td>4</td>\n",
       "      <td>Afghanistan</td>\n",
       "      <td>5142</td>\n",
       "      <td>Nourriture</td>\n",
       "      <td>S2734</td>\n",
       "      <td>Viande de Volailles</td>\n",
       "      <td>2010</td>\n",
       "      <td>2010</td>\n",
       "      <td>1000 t</td>\n",
       "      <td>65</td>\n",
       "      <td>I</td>\n",
       "      <td>Valeur imputée</td>\n",
       "      <td>NaN</td>\n",
       "    </tr>\n",
       "    <tr>\n",
       "      <th>3</th>\n",
       "      <td>FBS</td>\n",
       "      <td>Bilans Alimentaires (2010-)</td>\n",
       "      <td>4</td>\n",
       "      <td>Afghanistan</td>\n",
       "      <td>5511</td>\n",
       "      <td>Production</td>\n",
       "      <td>S2734</td>\n",
       "      <td>Viande de Volailles</td>\n",
       "      <td>2011</td>\n",
       "      <td>2011</td>\n",
       "      <td>1000 t</td>\n",
       "      <td>26</td>\n",
       "      <td>I</td>\n",
       "      <td>Valeur imputée</td>\n",
       "      <td>NaN</td>\n",
       "    </tr>\n",
       "    <tr>\n",
       "      <th>4</th>\n",
       "      <td>FBS</td>\n",
       "      <td>Bilans Alimentaires (2010-)</td>\n",
       "      <td>4</td>\n",
       "      <td>Afghanistan</td>\n",
       "      <td>5611</td>\n",
       "      <td>Importations - quantité</td>\n",
       "      <td>S2734</td>\n",
       "      <td>Viande de Volailles</td>\n",
       "      <td>2011</td>\n",
       "      <td>2011</td>\n",
       "      <td>1000 t</td>\n",
       "      <td>51</td>\n",
       "      <td>I</td>\n",
       "      <td>Valeur imputée</td>\n",
       "      <td>NaN</td>\n",
       "    </tr>\n",
       "  </tbody>\n",
       "</table>\n",
       "</div>"
      ],
      "text/plain": [
       "  Code Domaine                      Domaine  Code zone (M49)         Zone  \\\n",
       "0          FBS  Bilans Alimentaires (2010-)                4  Afghanistan   \n",
       "1          FBS  Bilans Alimentaires (2010-)                4  Afghanistan   \n",
       "2          FBS  Bilans Alimentaires (2010-)                4  Afghanistan   \n",
       "3          FBS  Bilans Alimentaires (2010-)                4  Afghanistan   \n",
       "4          FBS  Bilans Alimentaires (2010-)                4  Afghanistan   \n",
       "\n",
       "   Code Élément                  Élément Code Produit (FBS)  \\\n",
       "0          5511               Production              S2734   \n",
       "1          5611  Importations - quantité              S2734   \n",
       "2          5142               Nourriture              S2734   \n",
       "3          5511               Production              S2734   \n",
       "4          5611  Importations - quantité              S2734   \n",
       "\n",
       "               Produit  Code année  Année   Unité  Valeur Symbole  \\\n",
       "0  Viande de Volailles        2010   2010  1000 t      28       I   \n",
       "1  Viande de Volailles        2010   2010  1000 t      39       I   \n",
       "2  Viande de Volailles        2010   2010  1000 t      65       I   \n",
       "3  Viande de Volailles        2011   2011  1000 t      26       I   \n",
       "4  Viande de Volailles        2011   2011  1000 t      51       I   \n",
       "\n",
       "  Description du Symbole  Note  \n",
       "0         Valeur imputée   NaN  \n",
       "1         Valeur imputée   NaN  \n",
       "2         Valeur imputée   NaN  \n",
       "3         Valeur imputée   NaN  \n",
       "4         Valeur imputée   NaN  "
      ]
     },
     "execution_count": 11,
     "metadata": {},
     "output_type": "execute_result"
    }
   ],
   "source": [
    "df_bilanalim.head()"
   ]
  },
  {
   "cell_type": "code",
   "execution_count": 12,
   "metadata": {},
   "outputs": [],
   "source": [
    "# Suppression des colonnes inutiles\n",
    "df_bilanalim.drop(columns=['Code Domaine', 'Domaine', 'Zone', 'Code Élément', 'Code Produit (FBS)', 'Produit', 'Code année', 'Unité', 'Symbole', 'Description du Symbole', 'Note'], inplace=True)\n",
    "# Modification des noms de colonnes\n",
    "df_bilanalim.rename(columns={'Code zone (M49)': 'M49'}, inplace=True)\n",
    "# Correction de l'unité des valeurs\n",
    "df_bilanalim['Valeur'] = df_bilanalim['Valeur'] * 1000"
   ]
  },
  {
   "cell_type": "code",
   "execution_count": 13,
   "metadata": {},
   "outputs": [],
   "source": [
    "# Récupérer la valeur la plus actuelle\n",
    "df_bilanalim = df_bilanalim.loc[df_bilanalim.groupby(by=['M49', 'Élément']).Année.idxmax()]\n",
    "# Suppression de la colonne Année\n",
    "df_bilanalim.drop(columns=['Année'], inplace=True)\n",
    "# Pivot\n",
    "df_bilanalim = df_bilanalim.pivot(index='M49', columns='Élément', values='Valeur')\n",
    "# Renommer les colonnes\n",
    "df_bilanalim.rename(columns={\"Exportations - quantité\": \"Exportations\", \"Importations - quantité\": \"Importations\", \"Nourriture\" : \"Consommation\"}, inplace=True)\n",
    "# Reset de l'index\n",
    "df_bilanalim.reset_index(inplace=True)"
   ]
  },
  {
   "cell_type": "code",
   "execution_count": 14,
   "metadata": {},
   "outputs": [
    {
     "data": {
      "application/vnd.microsoft.datawrangler.viewer.v0+json": {
       "columns": [
        {
         "name": "index",
         "rawType": "int64",
         "type": "integer"
        },
        {
         "name": "M49",
         "rawType": "int64",
         "type": "integer"
        },
        {
         "name": "Exportations",
         "rawType": "float64",
         "type": "float"
        },
        {
         "name": "Importations",
         "rawType": "float64",
         "type": "float"
        },
        {
         "name": "Consommation",
         "rawType": "float64",
         "type": "float"
        },
        {
         "name": "Production",
         "rawType": "float64",
         "type": "float"
        }
       ],
       "conversionMethod": "pd.DataFrame",
       "ref": "c8c20ff9-6c07-4b39-a05a-5578f19ee79c",
       "rows": [
        [
         "0",
         "4",
         "0.0",
         "7000.0",
         "36000.0",
         "29000.0"
        ],
        [
         "1",
         "8",
         "0.0",
         "47000.0",
         "64000.0",
         "18000.0"
        ],
        [
         "2",
         "12",
         "0.0",
         "0.0",
         "275000.0",
         "275000.0"
        ],
        [
         "3",
         "24",
         "0.0",
         "316000.0",
         "374000.0",
         "59000.0"
        ],
        [
         "4",
         "28",
         "0.0",
         "7000.0",
         "6000.0",
         "0.0"
        ]
       ],
       "shape": {
        "columns": 5,
        "rows": 5
       }
      },
      "text/html": [
       "<div>\n",
       "<style scoped>\n",
       "    .dataframe tbody tr th:only-of-type {\n",
       "        vertical-align: middle;\n",
       "    }\n",
       "\n",
       "    .dataframe tbody tr th {\n",
       "        vertical-align: top;\n",
       "    }\n",
       "\n",
       "    .dataframe thead th {\n",
       "        text-align: right;\n",
       "    }\n",
       "</style>\n",
       "<table border=\"1\" class=\"dataframe\">\n",
       "  <thead>\n",
       "    <tr style=\"text-align: right;\">\n",
       "      <th>Élément</th>\n",
       "      <th>M49</th>\n",
       "      <th>Exportations</th>\n",
       "      <th>Importations</th>\n",
       "      <th>Consommation</th>\n",
       "      <th>Production</th>\n",
       "    </tr>\n",
       "  </thead>\n",
       "  <tbody>\n",
       "    <tr>\n",
       "      <th>0</th>\n",
       "      <td>4</td>\n",
       "      <td>0.0</td>\n",
       "      <td>7000.0</td>\n",
       "      <td>36000.0</td>\n",
       "      <td>29000.0</td>\n",
       "    </tr>\n",
       "    <tr>\n",
       "      <th>1</th>\n",
       "      <td>8</td>\n",
       "      <td>0.0</td>\n",
       "      <td>47000.0</td>\n",
       "      <td>64000.0</td>\n",
       "      <td>18000.0</td>\n",
       "    </tr>\n",
       "    <tr>\n",
       "      <th>2</th>\n",
       "      <td>12</td>\n",
       "      <td>0.0</td>\n",
       "      <td>0.0</td>\n",
       "      <td>275000.0</td>\n",
       "      <td>275000.0</td>\n",
       "    </tr>\n",
       "    <tr>\n",
       "      <th>3</th>\n",
       "      <td>24</td>\n",
       "      <td>0.0</td>\n",
       "      <td>316000.0</td>\n",
       "      <td>374000.0</td>\n",
       "      <td>59000.0</td>\n",
       "    </tr>\n",
       "    <tr>\n",
       "      <th>4</th>\n",
       "      <td>28</td>\n",
       "      <td>0.0</td>\n",
       "      <td>7000.0</td>\n",
       "      <td>6000.0</td>\n",
       "      <td>0.0</td>\n",
       "    </tr>\n",
       "  </tbody>\n",
       "</table>\n",
       "</div>"
      ],
      "text/plain": [
       "Élément  M49  Exportations  Importations  Consommation  Production\n",
       "0          4           0.0        7000.0       36000.0     29000.0\n",
       "1          8           0.0       47000.0       64000.0     18000.0\n",
       "2         12           0.0           0.0      275000.0    275000.0\n",
       "3         24           0.0      316000.0      374000.0     59000.0\n",
       "4         28           0.0        7000.0        6000.0         0.0"
      ]
     },
     "execution_count": 14,
     "metadata": {},
     "output_type": "execute_result"
    }
   ],
   "source": [
    "df_bilanalim.head()"
   ]
  },
  {
   "cell_type": "markdown",
   "metadata": {},
   "source": [
    "Il s'agit de données concernant la volaille, exprimées en tonnes."
   ]
  },
  {
   "cell_type": "markdown",
   "metadata": {},
   "source": [
    "### 1.5 - Chargement des données Stabilité Politique (Source : FAO)"
   ]
  },
  {
   "cell_type": "code",
   "execution_count": 15,
   "metadata": {},
   "outputs": [
    {
     "name": "stdout",
     "output_type": "stream",
     "text": [
      "Le dataframe Stabilité Politique comporte 4270 observation(s) et 15 colonne(s).\n"
     ]
    }
   ],
   "source": [
    "# Importation du fichier StabilitePolitique.csv\n",
    "df_stabilite = pd.read_csv(\"../data/StabilitePolitique.csv\")\n",
    "# Afficher les dimmensions du dataset\n",
    "print(\"Le dataframe Stabilité Politique comporte {} observation(s) et {} colonne(s).\".format(df_stabilite.shape[0], df_stabilite.shape[1]))"
   ]
  },
  {
   "cell_type": "code",
   "execution_count": 16,
   "metadata": {},
   "outputs": [
    {
     "data": {
      "application/vnd.microsoft.datawrangler.viewer.v0+json": {
       "columns": [
        {
         "name": "index",
         "rawType": "int64",
         "type": "integer"
        },
        {
         "name": "Code Domaine",
         "rawType": "object",
         "type": "string"
        },
        {
         "name": "Domaine",
         "rawType": "object",
         "type": "string"
        },
        {
         "name": "Code zone (M49)",
         "rawType": "int64",
         "type": "integer"
        },
        {
         "name": "Zone",
         "rawType": "object",
         "type": "string"
        },
        {
         "name": "Code Élément",
         "rawType": "int64",
         "type": "integer"
        },
        {
         "name": "Élément",
         "rawType": "object",
         "type": "string"
        },
        {
         "name": "Code Produit",
         "rawType": "int64",
         "type": "integer"
        },
        {
         "name": "Produit",
         "rawType": "object",
         "type": "string"
        },
        {
         "name": "Code année",
         "rawType": "int64",
         "type": "integer"
        },
        {
         "name": "Année",
         "rawType": "int64",
         "type": "integer"
        },
        {
         "name": "Unité",
         "rawType": "float64",
         "type": "float"
        },
        {
         "name": "Valeur",
         "rawType": "float64",
         "type": "float"
        },
        {
         "name": "Symbole",
         "rawType": "object",
         "type": "string"
        },
        {
         "name": "Description du Symbole",
         "rawType": "object",
         "type": "string"
        },
        {
         "name": "Note",
         "rawType": "float64",
         "type": "float"
        }
       ],
       "conversionMethod": "pd.DataFrame",
       "ref": "4f132c59-0bdd-49ad-be0a-6069b0f4fd7f",
       "rows": [
        [
         "0",
         "FS",
         "Données de la sécurité alimentaire",
         "4",
         "Afghanistan",
         "6125",
         "Valeur",
         "21032",
         "Stabilité politique et absence de violence/terrorisme (indice)",
         "2000",
         "2000",
         null,
         "-2.44",
         "X",
         "Ciffre de sources internationales",
         null
        ],
        [
         "1",
         "FS",
         "Données de la sécurité alimentaire",
         "4",
         "Afghanistan",
         "6125",
         "Valeur",
         "21032",
         "Stabilité politique et absence de violence/terrorisme (indice)",
         "2002",
         "2002",
         null,
         "-2.04",
         "X",
         "Ciffre de sources internationales",
         null
        ],
        [
         "2",
         "FS",
         "Données de la sécurité alimentaire",
         "4",
         "Afghanistan",
         "6125",
         "Valeur",
         "21032",
         "Stabilité politique et absence de violence/terrorisme (indice)",
         "2003",
         "2003",
         null,
         "-2.2",
         "X",
         "Ciffre de sources internationales",
         null
        ],
        [
         "3",
         "FS",
         "Données de la sécurité alimentaire",
         "4",
         "Afghanistan",
         "6125",
         "Valeur",
         "21032",
         "Stabilité politique et absence de violence/terrorisme (indice)",
         "2004",
         "2004",
         null,
         "-2.3",
         "X",
         "Ciffre de sources internationales",
         null
        ],
        [
         "4",
         "FS",
         "Données de la sécurité alimentaire",
         "4",
         "Afghanistan",
         "6125",
         "Valeur",
         "21032",
         "Stabilité politique et absence de violence/terrorisme (indice)",
         "2005",
         "2005",
         null,
         "-2.07",
         "X",
         "Ciffre de sources internationales",
         null
        ]
       ],
       "shape": {
        "columns": 15,
        "rows": 5
       }
      },
      "text/html": [
       "<div>\n",
       "<style scoped>\n",
       "    .dataframe tbody tr th:only-of-type {\n",
       "        vertical-align: middle;\n",
       "    }\n",
       "\n",
       "    .dataframe tbody tr th {\n",
       "        vertical-align: top;\n",
       "    }\n",
       "\n",
       "    .dataframe thead th {\n",
       "        text-align: right;\n",
       "    }\n",
       "</style>\n",
       "<table border=\"1\" class=\"dataframe\">\n",
       "  <thead>\n",
       "    <tr style=\"text-align: right;\">\n",
       "      <th></th>\n",
       "      <th>Code Domaine</th>\n",
       "      <th>Domaine</th>\n",
       "      <th>Code zone (M49)</th>\n",
       "      <th>Zone</th>\n",
       "      <th>Code Élément</th>\n",
       "      <th>Élément</th>\n",
       "      <th>Code Produit</th>\n",
       "      <th>Produit</th>\n",
       "      <th>Code année</th>\n",
       "      <th>Année</th>\n",
       "      <th>Unité</th>\n",
       "      <th>Valeur</th>\n",
       "      <th>Symbole</th>\n",
       "      <th>Description du Symbole</th>\n",
       "      <th>Note</th>\n",
       "    </tr>\n",
       "  </thead>\n",
       "  <tbody>\n",
       "    <tr>\n",
       "      <th>0</th>\n",
       "      <td>FS</td>\n",
       "      <td>Données de la sécurité alimentaire</td>\n",
       "      <td>4</td>\n",
       "      <td>Afghanistan</td>\n",
       "      <td>6125</td>\n",
       "      <td>Valeur</td>\n",
       "      <td>21032</td>\n",
       "      <td>Stabilité politique et absence de violence/ter...</td>\n",
       "      <td>2000</td>\n",
       "      <td>2000</td>\n",
       "      <td>NaN</td>\n",
       "      <td>-2.44</td>\n",
       "      <td>X</td>\n",
       "      <td>Ciffre de sources internationales</td>\n",
       "      <td>NaN</td>\n",
       "    </tr>\n",
       "    <tr>\n",
       "      <th>1</th>\n",
       "      <td>FS</td>\n",
       "      <td>Données de la sécurité alimentaire</td>\n",
       "      <td>4</td>\n",
       "      <td>Afghanistan</td>\n",
       "      <td>6125</td>\n",
       "      <td>Valeur</td>\n",
       "      <td>21032</td>\n",
       "      <td>Stabilité politique et absence de violence/ter...</td>\n",
       "      <td>2002</td>\n",
       "      <td>2002</td>\n",
       "      <td>NaN</td>\n",
       "      <td>-2.04</td>\n",
       "      <td>X</td>\n",
       "      <td>Ciffre de sources internationales</td>\n",
       "      <td>NaN</td>\n",
       "    </tr>\n",
       "    <tr>\n",
       "      <th>2</th>\n",
       "      <td>FS</td>\n",
       "      <td>Données de la sécurité alimentaire</td>\n",
       "      <td>4</td>\n",
       "      <td>Afghanistan</td>\n",
       "      <td>6125</td>\n",
       "      <td>Valeur</td>\n",
       "      <td>21032</td>\n",
       "      <td>Stabilité politique et absence de violence/ter...</td>\n",
       "      <td>2003</td>\n",
       "      <td>2003</td>\n",
       "      <td>NaN</td>\n",
       "      <td>-2.20</td>\n",
       "      <td>X</td>\n",
       "      <td>Ciffre de sources internationales</td>\n",
       "      <td>NaN</td>\n",
       "    </tr>\n",
       "    <tr>\n",
       "      <th>3</th>\n",
       "      <td>FS</td>\n",
       "      <td>Données de la sécurité alimentaire</td>\n",
       "      <td>4</td>\n",
       "      <td>Afghanistan</td>\n",
       "      <td>6125</td>\n",
       "      <td>Valeur</td>\n",
       "      <td>21032</td>\n",
       "      <td>Stabilité politique et absence de violence/ter...</td>\n",
       "      <td>2004</td>\n",
       "      <td>2004</td>\n",
       "      <td>NaN</td>\n",
       "      <td>-2.30</td>\n",
       "      <td>X</td>\n",
       "      <td>Ciffre de sources internationales</td>\n",
       "      <td>NaN</td>\n",
       "    </tr>\n",
       "    <tr>\n",
       "      <th>4</th>\n",
       "      <td>FS</td>\n",
       "      <td>Données de la sécurité alimentaire</td>\n",
       "      <td>4</td>\n",
       "      <td>Afghanistan</td>\n",
       "      <td>6125</td>\n",
       "      <td>Valeur</td>\n",
       "      <td>21032</td>\n",
       "      <td>Stabilité politique et absence de violence/ter...</td>\n",
       "      <td>2005</td>\n",
       "      <td>2005</td>\n",
       "      <td>NaN</td>\n",
       "      <td>-2.07</td>\n",
       "      <td>X</td>\n",
       "      <td>Ciffre de sources internationales</td>\n",
       "      <td>NaN</td>\n",
       "    </tr>\n",
       "  </tbody>\n",
       "</table>\n",
       "</div>"
      ],
      "text/plain": [
       "  Code Domaine                             Domaine  Code zone (M49)  \\\n",
       "0           FS  Données de la sécurité alimentaire                4   \n",
       "1           FS  Données de la sécurité alimentaire                4   \n",
       "2           FS  Données de la sécurité alimentaire                4   \n",
       "3           FS  Données de la sécurité alimentaire                4   \n",
       "4           FS  Données de la sécurité alimentaire                4   \n",
       "\n",
       "          Zone  Code Élément Élément  Code Produit  \\\n",
       "0  Afghanistan          6125  Valeur         21032   \n",
       "1  Afghanistan          6125  Valeur         21032   \n",
       "2  Afghanistan          6125  Valeur         21032   \n",
       "3  Afghanistan          6125  Valeur         21032   \n",
       "4  Afghanistan          6125  Valeur         21032   \n",
       "\n",
       "                                             Produit  Code année  Année  \\\n",
       "0  Stabilité politique et absence de violence/ter...        2000   2000   \n",
       "1  Stabilité politique et absence de violence/ter...        2002   2002   \n",
       "2  Stabilité politique et absence de violence/ter...        2003   2003   \n",
       "3  Stabilité politique et absence de violence/ter...        2004   2004   \n",
       "4  Stabilité politique et absence de violence/ter...        2005   2005   \n",
       "\n",
       "   Unité  Valeur Symbole             Description du Symbole  Note  \n",
       "0    NaN   -2.44       X  Ciffre de sources internationales   NaN  \n",
       "1    NaN   -2.04       X  Ciffre de sources internationales   NaN  \n",
       "2    NaN   -2.20       X  Ciffre de sources internationales   NaN  \n",
       "3    NaN   -2.30       X  Ciffre de sources internationales   NaN  \n",
       "4    NaN   -2.07       X  Ciffre de sources internationales   NaN  "
      ]
     },
     "execution_count": 16,
     "metadata": {},
     "output_type": "execute_result"
    }
   ],
   "source": [
    "df_stabilite.head()"
   ]
  },
  {
   "cell_type": "code",
   "execution_count": 17,
   "metadata": {},
   "outputs": [],
   "source": [
    "# Suppression des colonnes inutiles\n",
    "df_stabilite.drop(columns=['Code Domaine', 'Domaine', 'Zone', 'Code Élément', 'Élément', 'Code Produit', 'Produit', 'Code année', 'Unité', 'Symbole', 'Description du Symbole', 'Note'], inplace=True)\n",
    "# Modification des noms de colonnes\n",
    "df_stabilite.rename(columns={'Code zone (M49)': 'M49', 'Valeur': 'Stabilité Politique'}, inplace=True)"
   ]
  },
  {
   "cell_type": "code",
   "execution_count": 18,
   "metadata": {},
   "outputs": [],
   "source": [
    "# Récupérer la valeur la plus actuelle\n",
    "df_stabilite = df_stabilite.loc[df_stabilite.groupby('M49').Année.idxmax()]\n",
    "# Suppression de la colonne Année\n",
    "df_stabilite.drop(columns=['Année'], inplace=True)\n",
    "# Reset de l'index\n",
    "df_stabilite.reset_index(drop=True, inplace=True)"
   ]
  },
  {
   "cell_type": "code",
   "execution_count": 19,
   "metadata": {},
   "outputs": [
    {
     "data": {
      "application/vnd.microsoft.datawrangler.viewer.v0+json": {
       "columns": [
        {
         "name": "index",
         "rawType": "int64",
         "type": "integer"
        },
        {
         "name": "M49",
         "rawType": "int64",
         "type": "integer"
        },
        {
         "name": "Stabilité Politique",
         "rawType": "float64",
         "type": "float"
        }
       ],
       "conversionMethod": "pd.DataFrame",
       "ref": "bb689884-a8ea-45ee-8843-df59d6a4cdbf",
       "rows": [
        [
         "0",
         "4",
         "-2.55"
        ],
        [
         "1",
         "8",
         "0.11"
        ],
        [
         "2",
         "12",
         "-0.74"
        ],
        [
         "3",
         "16",
         "1.13"
        ],
        [
         "4",
         "20",
         "1.59"
        ]
       ],
       "shape": {
        "columns": 2,
        "rows": 5
       }
      },
      "text/html": [
       "<div>\n",
       "<style scoped>\n",
       "    .dataframe tbody tr th:only-of-type {\n",
       "        vertical-align: middle;\n",
       "    }\n",
       "\n",
       "    .dataframe tbody tr th {\n",
       "        vertical-align: top;\n",
       "    }\n",
       "\n",
       "    .dataframe thead th {\n",
       "        text-align: right;\n",
       "    }\n",
       "</style>\n",
       "<table border=\"1\" class=\"dataframe\">\n",
       "  <thead>\n",
       "    <tr style=\"text-align: right;\">\n",
       "      <th></th>\n",
       "      <th>M49</th>\n",
       "      <th>Stabilité Politique</th>\n",
       "    </tr>\n",
       "  </thead>\n",
       "  <tbody>\n",
       "    <tr>\n",
       "      <th>0</th>\n",
       "      <td>4</td>\n",
       "      <td>-2.55</td>\n",
       "    </tr>\n",
       "    <tr>\n",
       "      <th>1</th>\n",
       "      <td>8</td>\n",
       "      <td>0.11</td>\n",
       "    </tr>\n",
       "    <tr>\n",
       "      <th>2</th>\n",
       "      <td>12</td>\n",
       "      <td>-0.74</td>\n",
       "    </tr>\n",
       "    <tr>\n",
       "      <th>3</th>\n",
       "      <td>16</td>\n",
       "      <td>1.13</td>\n",
       "    </tr>\n",
       "    <tr>\n",
       "      <th>4</th>\n",
       "      <td>20</td>\n",
       "      <td>1.59</td>\n",
       "    </tr>\n",
       "  </tbody>\n",
       "</table>\n",
       "</div>"
      ],
      "text/plain": [
       "   M49  Stabilité Politique\n",
       "0    4                -2.55\n",
       "1    8                 0.11\n",
       "2   12                -0.74\n",
       "3   16                 1.13\n",
       "4   20                 1.59"
      ]
     },
     "execution_count": 19,
     "metadata": {},
     "output_type": "execute_result"
    }
   ],
   "source": [
    "df_stabilite.head()"
   ]
  },
  {
   "cell_type": "markdown",
   "metadata": {},
   "source": [
    "### 1.6 - Chargement des données Inflation (Source : La Banque Mondiale)"
   ]
  },
  {
   "cell_type": "code",
   "execution_count": 20,
   "metadata": {},
   "outputs": [
    {
     "name": "stdout",
     "output_type": "stream",
     "text": [
      "Le dataframe Inflation comporte 266 observation(s) et 15 colonne(s).\n"
     ]
    }
   ],
   "source": [
    "# Importation du fichier Inflation.csv\n",
    "df_inflation = pd.read_csv(\"../data/Inflation.csv\", sep=';')\n",
    "# Afficher les dimmensions du dataset\n",
    "print(\"Le dataframe Inflation comporte {} observation(s) et {} colonne(s).\".format(df_inflation.shape[0], df_inflation.shape[1]))"
   ]
  },
  {
   "cell_type": "code",
   "execution_count": 21,
   "metadata": {},
   "outputs": [
    {
     "data": {
      "application/vnd.microsoft.datawrangler.viewer.v0+json": {
       "columns": [
        {
         "name": "index",
         "rawType": "int64",
         "type": "integer"
        },
        {
         "name": "Country Name",
         "rawType": "object",
         "type": "unknown"
        },
        {
         "name": "2010",
         "rawType": "float64",
         "type": "float"
        },
        {
         "name": "2011",
         "rawType": "float64",
         "type": "float"
        },
        {
         "name": "2012",
         "rawType": "float64",
         "type": "float"
        },
        {
         "name": "2013",
         "rawType": "float64",
         "type": "float"
        },
        {
         "name": "2014",
         "rawType": "float64",
         "type": "float"
        },
        {
         "name": "2015",
         "rawType": "float64",
         "type": "float"
        },
        {
         "name": "2016",
         "rawType": "float64",
         "type": "float"
        },
        {
         "name": "2017",
         "rawType": "float64",
         "type": "float"
        },
        {
         "name": "2018",
         "rawType": "float64",
         "type": "float"
        },
        {
         "name": "2019",
         "rawType": "float64",
         "type": "float"
        },
        {
         "name": "2020",
         "rawType": "float64",
         "type": "float"
        },
        {
         "name": "2021",
         "rawType": "float64",
         "type": "float"
        },
        {
         "name": "2022",
         "rawType": "float64",
         "type": "float"
        },
        {
         "name": "2023",
         "rawType": "float64",
         "type": "float"
        }
       ],
       "conversionMethod": "pd.DataFrame",
       "ref": "a0e15e7f-1878-4206-bacb-fa280256b0eb",
       "rows": [
        [
         "0",
         "Aruba",
         "2.07814071860787",
         "4.31629742195203",
         "0.627471992893373",
         "-2.37206524252261",
         "0.421440918881214",
         "0.474763597342641",
         "-0.931195987079561",
         "-1.02828178762012",
         "3.62604141352961",
         "4.25746204335428",
         null,
         null,
         null,
         null
        ],
        [
         "1",
         null,
         "5.53753791645677",
         "8.97120640995788",
         "9.15870843167905",
         "5.75098133352467",
         "5.37028961008587",
         "5.24587835022454",
         "6.57139642173964",
         "6.39934341569381",
         "4.72080474200535",
         "4.65366473106483",
         "5.40516207933392",
         "7.24097765588442",
         "10.7737512242899",
         "7.12697482131851"
        ],
        [
         "2",
         "Afghanistan",
         "2.17853752389414",
         "11.8041858089129",
         "6.44121280934117",
         "7.38577178397855",
         "4.67399603536305",
         "-0.66170916471352",
         "4.38389195513893",
         "4.97595150553892",
         "0.626149149168983",
         "2.30237251516819",
         null,
         null,
         null,
         null
        ],
        [
         "3",
         null,
         "1.78484420477113",
         "4.01869907534488",
         "4.57837463515948",
         "2.43920076104131",
         "1.76843582146219",
         "2.13081738058791",
         "1.48741550755546",
         "1.72548602374723",
         "1.78404994832039",
         "1.98309228487231",
         "2.49037783931944",
         "3.74570045027355",
         "7.94925143524016",
         "4.95305034506872"
        ],
        [
         "4",
         "Angola",
         "14.4696564932577",
         "13.4824679218511",
         "10.2779049218839",
         "8.77781429332624",
         "7.28038730361121",
         "9.35597215533784",
         "30.6944150806719",
         "29.8444799015679",
         "19.6289379701521",
         "17.080954143438",
         "22.271539247051",
         "25.7542948841891",
         "21.3552901320822",
         "13.6441017767715"
        ]
       ],
       "shape": {
        "columns": 15,
        "rows": 5
       }
      },
      "text/html": [
       "<div>\n",
       "<style scoped>\n",
       "    .dataframe tbody tr th:only-of-type {\n",
       "        vertical-align: middle;\n",
       "    }\n",
       "\n",
       "    .dataframe tbody tr th {\n",
       "        vertical-align: top;\n",
       "    }\n",
       "\n",
       "    .dataframe thead th {\n",
       "        text-align: right;\n",
       "    }\n",
       "</style>\n",
       "<table border=\"1\" class=\"dataframe\">\n",
       "  <thead>\n",
       "    <tr style=\"text-align: right;\">\n",
       "      <th></th>\n",
       "      <th>Country Name</th>\n",
       "      <th>2010</th>\n",
       "      <th>2011</th>\n",
       "      <th>2012</th>\n",
       "      <th>2013</th>\n",
       "      <th>2014</th>\n",
       "      <th>2015</th>\n",
       "      <th>2016</th>\n",
       "      <th>2017</th>\n",
       "      <th>2018</th>\n",
       "      <th>2019</th>\n",
       "      <th>2020</th>\n",
       "      <th>2021</th>\n",
       "      <th>2022</th>\n",
       "      <th>2023</th>\n",
       "    </tr>\n",
       "  </thead>\n",
       "  <tbody>\n",
       "    <tr>\n",
       "      <th>0</th>\n",
       "      <td>Aruba</td>\n",
       "      <td>2.078141</td>\n",
       "      <td>4.316297</td>\n",
       "      <td>0.627472</td>\n",
       "      <td>-2.372065</td>\n",
       "      <td>0.421441</td>\n",
       "      <td>0.474764</td>\n",
       "      <td>-0.931196</td>\n",
       "      <td>-1.028282</td>\n",
       "      <td>3.626041</td>\n",
       "      <td>4.257462</td>\n",
       "      <td>NaN</td>\n",
       "      <td>NaN</td>\n",
       "      <td>NaN</td>\n",
       "      <td>NaN</td>\n",
       "    </tr>\n",
       "    <tr>\n",
       "      <th>1</th>\n",
       "      <td>NaN</td>\n",
       "      <td>5.537538</td>\n",
       "      <td>8.971206</td>\n",
       "      <td>9.158708</td>\n",
       "      <td>5.750981</td>\n",
       "      <td>5.370290</td>\n",
       "      <td>5.245878</td>\n",
       "      <td>6.571396</td>\n",
       "      <td>6.399343</td>\n",
       "      <td>4.720805</td>\n",
       "      <td>4.653665</td>\n",
       "      <td>5.405162</td>\n",
       "      <td>7.240978</td>\n",
       "      <td>10.773751</td>\n",
       "      <td>7.126975</td>\n",
       "    </tr>\n",
       "    <tr>\n",
       "      <th>2</th>\n",
       "      <td>Afghanistan</td>\n",
       "      <td>2.178538</td>\n",
       "      <td>11.804186</td>\n",
       "      <td>6.441213</td>\n",
       "      <td>7.385772</td>\n",
       "      <td>4.673996</td>\n",
       "      <td>-0.661709</td>\n",
       "      <td>4.383892</td>\n",
       "      <td>4.975952</td>\n",
       "      <td>0.626149</td>\n",
       "      <td>2.302373</td>\n",
       "      <td>NaN</td>\n",
       "      <td>NaN</td>\n",
       "      <td>NaN</td>\n",
       "      <td>NaN</td>\n",
       "    </tr>\n",
       "    <tr>\n",
       "      <th>3</th>\n",
       "      <td>NaN</td>\n",
       "      <td>1.784844</td>\n",
       "      <td>4.018699</td>\n",
       "      <td>4.578375</td>\n",
       "      <td>2.439201</td>\n",
       "      <td>1.768436</td>\n",
       "      <td>2.130817</td>\n",
       "      <td>1.487416</td>\n",
       "      <td>1.725486</td>\n",
       "      <td>1.784050</td>\n",
       "      <td>1.983092</td>\n",
       "      <td>2.490378</td>\n",
       "      <td>3.745700</td>\n",
       "      <td>7.949251</td>\n",
       "      <td>4.953050</td>\n",
       "    </tr>\n",
       "    <tr>\n",
       "      <th>4</th>\n",
       "      <td>Angola</td>\n",
       "      <td>14.469656</td>\n",
       "      <td>13.482468</td>\n",
       "      <td>10.277905</td>\n",
       "      <td>8.777814</td>\n",
       "      <td>7.280387</td>\n",
       "      <td>9.355972</td>\n",
       "      <td>30.694415</td>\n",
       "      <td>29.844480</td>\n",
       "      <td>19.628938</td>\n",
       "      <td>17.080954</td>\n",
       "      <td>22.271539</td>\n",
       "      <td>25.754295</td>\n",
       "      <td>21.355290</td>\n",
       "      <td>13.644102</td>\n",
       "    </tr>\n",
       "  </tbody>\n",
       "</table>\n",
       "</div>"
      ],
      "text/plain": [
       "  Country Name       2010       2011       2012      2013      2014      2015  \\\n",
       "0        Aruba   2.078141   4.316297   0.627472 -2.372065  0.421441  0.474764   \n",
       "1          NaN   5.537538   8.971206   9.158708  5.750981  5.370290  5.245878   \n",
       "2  Afghanistan   2.178538  11.804186   6.441213  7.385772  4.673996 -0.661709   \n",
       "3          NaN   1.784844   4.018699   4.578375  2.439201  1.768436  2.130817   \n",
       "4       Angola  14.469656  13.482468  10.277905  8.777814  7.280387  9.355972   \n",
       "\n",
       "        2016       2017       2018       2019       2020       2021  \\\n",
       "0  -0.931196  -1.028282   3.626041   4.257462        NaN        NaN   \n",
       "1   6.571396   6.399343   4.720805   4.653665   5.405162   7.240978   \n",
       "2   4.383892   4.975952   0.626149   2.302373        NaN        NaN   \n",
       "3   1.487416   1.725486   1.784050   1.983092   2.490378   3.745700   \n",
       "4  30.694415  29.844480  19.628938  17.080954  22.271539  25.754295   \n",
       "\n",
       "        2022       2023  \n",
       "0        NaN        NaN  \n",
       "1  10.773751   7.126975  \n",
       "2        NaN        NaN  \n",
       "3   7.949251   4.953050  \n",
       "4  21.355290  13.644102  "
      ]
     },
     "execution_count": 21,
     "metadata": {},
     "output_type": "execute_result"
    }
   ],
   "source": [
    "df_inflation.head()"
   ]
  },
  {
   "cell_type": "code",
   "execution_count": 22,
   "metadata": {},
   "outputs": [],
   "source": [
    "# Renommer les colonnes\n",
    "df_inflation.rename(columns={\"Country Name\": \"Pays\"}, inplace=True)\n",
    "# Suppression des pays vides\n",
    "df_inflation.dropna(subset=['Pays'], inplace=True)"
   ]
  },
  {
   "cell_type": "code",
   "execution_count": 23,
   "metadata": {},
   "outputs": [],
   "source": [
    "# Pivot\n",
    "df_inflation = pd.melt(df_inflation, id_vars=['Pays'])\n",
    "# Changer le type de la colonne Année\n",
    "df_inflation['variable'] = df_inflation['variable'].astype(str).astype(int)"
   ]
  },
  {
   "cell_type": "code",
   "execution_count": 24,
   "metadata": {},
   "outputs": [],
   "source": [
    "# Suppression des Na sur valeur\n",
    "df_inflation.dropna(subset=['value'], inplace=True)"
   ]
  },
  {
   "cell_type": "code",
   "execution_count": 25,
   "metadata": {},
   "outputs": [],
   "source": [
    "# Récupérer la valeur la plus actuelle\n",
    "df_inflation = df_inflation.loc[df_inflation.groupby('Pays').variable.idxmax()]"
   ]
  },
  {
   "cell_type": "code",
   "execution_count": 26,
   "metadata": {},
   "outputs": [],
   "source": [
    "# Suppression de la colonne Année\n",
    "df_inflation.drop(columns=['variable'], inplace=True)\n",
    "# Renommer la colonne valeur\n",
    "df_inflation.rename(columns={\"value\": \"Inflation\"}, inplace=True)\n",
    "# Reset de l'index\n",
    "df_inflation.reset_index(drop=True, inplace=True)"
   ]
  },
  {
   "cell_type": "code",
   "execution_count": 27,
   "metadata": {},
   "outputs": [
    {
     "data": {
      "application/vnd.microsoft.datawrangler.viewer.v0+json": {
       "columns": [
        {
         "name": "index",
         "rawType": "int64",
         "type": "integer"
        },
        {
         "name": "Pays",
         "rawType": "object",
         "type": "string"
        },
        {
         "name": "Inflation",
         "rawType": "float64",
         "type": "float"
        }
       ],
       "conversionMethod": "pd.DataFrame",
       "ref": "3006f276-02d2-4712-897c-a75926018094",
       "rows": [
        [
         "0",
         "Afghanistan",
         "2.30237251516819"
        ],
        [
         "1",
         "Afrique du Nord et Moyen-Orient",
         "4.22535211267609"
        ],
        [
         "2",
         "Afrique du Nord et Moyen-Orient (BIRD et IDA)",
         "7.70665764216232"
        ],
        [
         "3",
         "Afrique du Nord et Moyen-Orient (hors revenu élevé)",
         "6.09114152504141"
        ],
        [
         "4",
         "Afrique du Sud",
         "6.0739085322053"
        ]
       ],
       "shape": {
        "columns": 2,
        "rows": 5
       }
      },
      "text/html": [
       "<div>\n",
       "<style scoped>\n",
       "    .dataframe tbody tr th:only-of-type {\n",
       "        vertical-align: middle;\n",
       "    }\n",
       "\n",
       "    .dataframe tbody tr th {\n",
       "        vertical-align: top;\n",
       "    }\n",
       "\n",
       "    .dataframe thead th {\n",
       "        text-align: right;\n",
       "    }\n",
       "</style>\n",
       "<table border=\"1\" class=\"dataframe\">\n",
       "  <thead>\n",
       "    <tr style=\"text-align: right;\">\n",
       "      <th></th>\n",
       "      <th>Pays</th>\n",
       "      <th>Inflation</th>\n",
       "    </tr>\n",
       "  </thead>\n",
       "  <tbody>\n",
       "    <tr>\n",
       "      <th>0</th>\n",
       "      <td>Afghanistan</td>\n",
       "      <td>2.302373</td>\n",
       "    </tr>\n",
       "    <tr>\n",
       "      <th>1</th>\n",
       "      <td>Afrique du Nord et Moyen-Orient</td>\n",
       "      <td>4.225352</td>\n",
       "    </tr>\n",
       "    <tr>\n",
       "      <th>2</th>\n",
       "      <td>Afrique du Nord et Moyen-Orient (BIRD et IDA)</td>\n",
       "      <td>7.706658</td>\n",
       "    </tr>\n",
       "    <tr>\n",
       "      <th>3</th>\n",
       "      <td>Afrique du Nord et Moyen-Orient (hors revenu é...</td>\n",
       "      <td>6.091142</td>\n",
       "    </tr>\n",
       "    <tr>\n",
       "      <th>4</th>\n",
       "      <td>Afrique du Sud</td>\n",
       "      <td>6.073909</td>\n",
       "    </tr>\n",
       "  </tbody>\n",
       "</table>\n",
       "</div>"
      ],
      "text/plain": [
       "                                                Pays  Inflation\n",
       "0                                        Afghanistan   2.302373\n",
       "1                    Afrique du Nord et Moyen-Orient   4.225352\n",
       "2      Afrique du Nord et Moyen-Orient (BIRD et IDA)   7.706658\n",
       "3  Afrique du Nord et Moyen-Orient (hors revenu é...   6.091142\n",
       "4                                     Afrique du Sud   6.073909"
      ]
     },
     "execution_count": 27,
     "metadata": {},
     "output_type": "execute_result"
    }
   ],
   "source": [
    "df_inflation.head()"
   ]
  },
  {
   "cell_type": "markdown",
   "metadata": {},
   "source": [
    "### 1.7 - Chargement des données PIB par Habitant PPA (Source : La Banque Mondiale)"
   ]
  },
  {
   "cell_type": "code",
   "execution_count": 28,
   "metadata": {},
   "outputs": [
    {
     "name": "stdout",
     "output_type": "stream",
     "text": [
      "Le dataframe PIB comporte 266 observation(s) et 15 colonne(s).\n"
     ]
    }
   ],
   "source": [
    "# Importation du fichier PIBHabitantPPA.csv\n",
    "df_pib = pd.read_csv(\"../data/PIBHabitantPPA.csv\", sep=';')\n",
    "# Afficher les dimmensions du dataset\n",
    "print(\"Le dataframe PIB comporte {} observation(s) et {} colonne(s).\".format(df_pib.shape[0], df_pib.shape[1]))"
   ]
  },
  {
   "cell_type": "code",
   "execution_count": 29,
   "metadata": {},
   "outputs": [
    {
     "data": {
      "application/vnd.microsoft.datawrangler.viewer.v0+json": {
       "columns": [
        {
         "name": "index",
         "rawType": "int64",
         "type": "integer"
        },
        {
         "name": "Country Name",
         "rawType": "object",
         "type": "unknown"
        },
        {
         "name": "2010",
         "rawType": "float64",
         "type": "float"
        },
        {
         "name": "2011",
         "rawType": "float64",
         "type": "float"
        },
        {
         "name": "2012",
         "rawType": "float64",
         "type": "float"
        },
        {
         "name": "2013",
         "rawType": "float64",
         "type": "float"
        },
        {
         "name": "2014",
         "rawType": "float64",
         "type": "float"
        },
        {
         "name": "2015",
         "rawType": "float64",
         "type": "float"
        },
        {
         "name": "2016",
         "rawType": "float64",
         "type": "float"
        },
        {
         "name": "2017",
         "rawType": "float64",
         "type": "float"
        },
        {
         "name": "2018",
         "rawType": "float64",
         "type": "float"
        },
        {
         "name": "2019",
         "rawType": "float64",
         "type": "float"
        },
        {
         "name": "2020",
         "rawType": "float64",
         "type": "float"
        },
        {
         "name": "2021",
         "rawType": "float64",
         "type": "float"
        },
        {
         "name": "2022",
         "rawType": "float64",
         "type": "float"
        },
        {
         "name": "2023",
         "rawType": "float64",
         "type": "float"
        }
       ],
       "conversionMethod": "pd.DataFrame",
       "ref": "3549693c-33b1-4113-ad04-e6bca29b62ad",
       "rows": [
        [
         "0",
         "Aruba",
         "33729.5119101741",
         "35324.0720643325",
         "34095.6471714416",
         "35901.653313159",
         "35657.2871970529",
         "35972.8664446515",
         "36117.5082112517",
         "37524.9284784013",
         "39287.0195169703",
         "39110.2761899842",
         "28976.4635497124",
         "35696.3093722926",
         "41649.4507917816",
         "44967.3445127078"
        ],
        [
         "1",
         null,
         "3149.01959831958",
         "3253.72350463828",
         "3171.57027555074",
         "3290.84430048203",
         "3426.57581807575",
         "3456.3654480221",
         "3551.06932335969",
         "3703.88660541311",
         "3648.31091074507",
         "3742.84895486287",
         "3629.50800351872",
         "3907.95163712488",
         "4229.68210035357",
         "4374.22953170023"
        ],
        [
         "2",
         "Afghanistan",
         "1765.53802828895",
         "1744.06062321558",
         "1988.42930381554",
         "2133.24127098647",
         "2224.49074815215",
         "2284.07584789349",
         "2213.1814410479",
         "2335.79586234454",
         "2432.27670083336",
         "2583.48533239877",
         "2561.98176058622",
         "2144.16657002819",
         "2122.99581512665",
         "2211.28063454007"
        ],
        [
         "3",
         null,
         "3477.31974850969",
         "3620.64951080036",
         "3735.92537325613",
         "3899.64589696862",
         "4103.76560363713",
         "4052.73379670423",
         "3996.86426739139",
         "4063.18504982506",
         "4198.08104224978",
         "4454.15603820527",
         "4441.93733816671",
         "4698.92689418476",
         "5107.2729392421",
         "5343.4685293794"
        ],
        [
         "4",
         "Angola",
         "6607.02219696569",
         "6711.39025723883",
         "7354.94296631261",
         "7561.03920495179",
         "7990.27445672775",
         "7119.72644274401",
         "6843.73589660504",
         "6992.7288342812",
         "7347.79993635052",
         "7528.38241791217",
         "6450.74994625154",
         "7408.12659121059",
         "7924.88880583905",
         "8040.70244971812"
        ]
       ],
       "shape": {
        "columns": 15,
        "rows": 5
       }
      },
      "text/html": [
       "<div>\n",
       "<style scoped>\n",
       "    .dataframe tbody tr th:only-of-type {\n",
       "        vertical-align: middle;\n",
       "    }\n",
       "\n",
       "    .dataframe tbody tr th {\n",
       "        vertical-align: top;\n",
       "    }\n",
       "\n",
       "    .dataframe thead th {\n",
       "        text-align: right;\n",
       "    }\n",
       "</style>\n",
       "<table border=\"1\" class=\"dataframe\">\n",
       "  <thead>\n",
       "    <tr style=\"text-align: right;\">\n",
       "      <th></th>\n",
       "      <th>Country Name</th>\n",
       "      <th>2010</th>\n",
       "      <th>2011</th>\n",
       "      <th>2012</th>\n",
       "      <th>2013</th>\n",
       "      <th>2014</th>\n",
       "      <th>2015</th>\n",
       "      <th>2016</th>\n",
       "      <th>2017</th>\n",
       "      <th>2018</th>\n",
       "      <th>2019</th>\n",
       "      <th>2020</th>\n",
       "      <th>2021</th>\n",
       "      <th>2022</th>\n",
       "      <th>2023</th>\n",
       "    </tr>\n",
       "  </thead>\n",
       "  <tbody>\n",
       "    <tr>\n",
       "      <th>0</th>\n",
       "      <td>Aruba</td>\n",
       "      <td>33729.511910</td>\n",
       "      <td>35324.072064</td>\n",
       "      <td>34095.647171</td>\n",
       "      <td>35901.653313</td>\n",
       "      <td>35657.287197</td>\n",
       "      <td>35972.866445</td>\n",
       "      <td>36117.508211</td>\n",
       "      <td>37524.928478</td>\n",
       "      <td>39287.019517</td>\n",
       "      <td>39110.276190</td>\n",
       "      <td>28976.463550</td>\n",
       "      <td>35696.309372</td>\n",
       "      <td>41649.450792</td>\n",
       "      <td>44967.344513</td>\n",
       "    </tr>\n",
       "    <tr>\n",
       "      <th>1</th>\n",
       "      <td>NaN</td>\n",
       "      <td>3149.019598</td>\n",
       "      <td>3253.723505</td>\n",
       "      <td>3171.570276</td>\n",
       "      <td>3290.844300</td>\n",
       "      <td>3426.575818</td>\n",
       "      <td>3456.365448</td>\n",
       "      <td>3551.069323</td>\n",
       "      <td>3703.886605</td>\n",
       "      <td>3648.310911</td>\n",
       "      <td>3742.848955</td>\n",
       "      <td>3629.508004</td>\n",
       "      <td>3907.951637</td>\n",
       "      <td>4229.682100</td>\n",
       "      <td>4374.229532</td>\n",
       "    </tr>\n",
       "    <tr>\n",
       "      <th>2</th>\n",
       "      <td>Afghanistan</td>\n",
       "      <td>1765.538028</td>\n",
       "      <td>1744.060623</td>\n",
       "      <td>1988.429304</td>\n",
       "      <td>2133.241271</td>\n",
       "      <td>2224.490748</td>\n",
       "      <td>2284.075848</td>\n",
       "      <td>2213.181441</td>\n",
       "      <td>2335.795862</td>\n",
       "      <td>2432.276701</td>\n",
       "      <td>2583.485332</td>\n",
       "      <td>2561.981761</td>\n",
       "      <td>2144.166570</td>\n",
       "      <td>2122.995815</td>\n",
       "      <td>2211.280635</td>\n",
       "    </tr>\n",
       "    <tr>\n",
       "      <th>3</th>\n",
       "      <td>NaN</td>\n",
       "      <td>3477.319749</td>\n",
       "      <td>3620.649511</td>\n",
       "      <td>3735.925373</td>\n",
       "      <td>3899.645897</td>\n",
       "      <td>4103.765604</td>\n",
       "      <td>4052.733797</td>\n",
       "      <td>3996.864267</td>\n",
       "      <td>4063.185050</td>\n",
       "      <td>4198.081042</td>\n",
       "      <td>4454.156038</td>\n",
       "      <td>4441.937338</td>\n",
       "      <td>4698.926894</td>\n",
       "      <td>5107.272939</td>\n",
       "      <td>5343.468529</td>\n",
       "    </tr>\n",
       "    <tr>\n",
       "      <th>4</th>\n",
       "      <td>Angola</td>\n",
       "      <td>6607.022197</td>\n",
       "      <td>6711.390257</td>\n",
       "      <td>7354.942966</td>\n",
       "      <td>7561.039205</td>\n",
       "      <td>7990.274457</td>\n",
       "      <td>7119.726443</td>\n",
       "      <td>6843.735897</td>\n",
       "      <td>6992.728834</td>\n",
       "      <td>7347.799936</td>\n",
       "      <td>7528.382418</td>\n",
       "      <td>6450.749946</td>\n",
       "      <td>7408.126591</td>\n",
       "      <td>7924.888806</td>\n",
       "      <td>8040.702450</td>\n",
       "    </tr>\n",
       "  </tbody>\n",
       "</table>\n",
       "</div>"
      ],
      "text/plain": [
       "  Country Name          2010          2011          2012          2013  \\\n",
       "0        Aruba  33729.511910  35324.072064  34095.647171  35901.653313   \n",
       "1          NaN   3149.019598   3253.723505   3171.570276   3290.844300   \n",
       "2  Afghanistan   1765.538028   1744.060623   1988.429304   2133.241271   \n",
       "3          NaN   3477.319749   3620.649511   3735.925373   3899.645897   \n",
       "4       Angola   6607.022197   6711.390257   7354.942966   7561.039205   \n",
       "\n",
       "           2014          2015          2016          2017          2018  \\\n",
       "0  35657.287197  35972.866445  36117.508211  37524.928478  39287.019517   \n",
       "1   3426.575818   3456.365448   3551.069323   3703.886605   3648.310911   \n",
       "2   2224.490748   2284.075848   2213.181441   2335.795862   2432.276701   \n",
       "3   4103.765604   4052.733797   3996.864267   4063.185050   4198.081042   \n",
       "4   7990.274457   7119.726443   6843.735897   6992.728834   7347.799936   \n",
       "\n",
       "           2019          2020          2021          2022          2023  \n",
       "0  39110.276190  28976.463550  35696.309372  41649.450792  44967.344513  \n",
       "1   3742.848955   3629.508004   3907.951637   4229.682100   4374.229532  \n",
       "2   2583.485332   2561.981761   2144.166570   2122.995815   2211.280635  \n",
       "3   4454.156038   4441.937338   4698.926894   5107.272939   5343.468529  \n",
       "4   7528.382418   6450.749946   7408.126591   7924.888806   8040.702450  "
      ]
     },
     "execution_count": 29,
     "metadata": {},
     "output_type": "execute_result"
    }
   ],
   "source": [
    "df_pib.head()"
   ]
  },
  {
   "cell_type": "code",
   "execution_count": 30,
   "metadata": {},
   "outputs": [],
   "source": [
    "# Rennommer les colonnes\n",
    "df_pib.rename(columns={\"Country Name\": \"Pays\"}, inplace=True)\n",
    "# Suppression des pays vides\n",
    "df_pib.dropna(subset=['Pays'], inplace=True)"
   ]
  },
  {
   "cell_type": "code",
   "execution_count": 31,
   "metadata": {},
   "outputs": [],
   "source": [
    "# Pivot\n",
    "df_pib = pd.melt(df_pib, id_vars=['Pays'])\n",
    "# Changer le type de la colonne Année\n",
    "df_pib['variable'] = df_pib['variable'].astype(str).astype(int)\n",
    "# Suppression des Na sur valeur\n",
    "df_pib.dropna(subset=['value'], inplace=True)"
   ]
  },
  {
   "cell_type": "code",
   "execution_count": 32,
   "metadata": {},
   "outputs": [],
   "source": [
    "# Récupérer la valeur la plus actuelle\n",
    "df_pib = df_pib.loc[df_pib.groupby('Pays').variable.idxmax()]\n",
    "# Suppression de la colonne Année\n",
    "df_pib.drop(columns=['variable'], inplace=True)\n",
    "# Renommer la colonne valeur\n",
    "df_pib.rename(columns={\"value\": \"Activité économique\"}, inplace=True)\n",
    "# Reset de l'index\n",
    "df_pib.reset_index(drop=True, inplace=True)"
   ]
  },
  {
   "cell_type": "code",
   "execution_count": 33,
   "metadata": {},
   "outputs": [
    {
     "data": {
      "application/vnd.microsoft.datawrangler.viewer.v0+json": {
       "columns": [
        {
         "name": "index",
         "rawType": "int64",
         "type": "integer"
        },
        {
         "name": "Pays",
         "rawType": "object",
         "type": "string"
        },
        {
         "name": "Activité économique",
         "rawType": "float64",
         "type": "float"
        }
       ],
       "conversionMethod": "pd.DataFrame",
       "ref": "26db2b28-0b1b-4a66-bc94-c8df1968bd8c",
       "rows": [
        [
         "0",
         "Afghanistan",
         "2211.28063454007"
        ],
        [
         "1",
         "Afrique du Nord et Moyen-Orient",
         "20563.8776419376"
        ],
        [
         "2",
         "Afrique du Nord et Moyen-Orient (BIRD et IDA)",
         "14171.9193574058"
        ],
        [
         "3",
         "Afrique du Nord et Moyen-Orient (hors revenu élevé)",
         "14072.7650267015"
        ],
        [
         "4",
         "Afrique du Sud",
         "15194.1991761106"
        ]
       ],
       "shape": {
        "columns": 2,
        "rows": 5
       }
      },
      "text/html": [
       "<div>\n",
       "<style scoped>\n",
       "    .dataframe tbody tr th:only-of-type {\n",
       "        vertical-align: middle;\n",
       "    }\n",
       "\n",
       "    .dataframe tbody tr th {\n",
       "        vertical-align: top;\n",
       "    }\n",
       "\n",
       "    .dataframe thead th {\n",
       "        text-align: right;\n",
       "    }\n",
       "</style>\n",
       "<table border=\"1\" class=\"dataframe\">\n",
       "  <thead>\n",
       "    <tr style=\"text-align: right;\">\n",
       "      <th></th>\n",
       "      <th>Pays</th>\n",
       "      <th>Activité économique</th>\n",
       "    </tr>\n",
       "  </thead>\n",
       "  <tbody>\n",
       "    <tr>\n",
       "      <th>0</th>\n",
       "      <td>Afghanistan</td>\n",
       "      <td>2211.280635</td>\n",
       "    </tr>\n",
       "    <tr>\n",
       "      <th>1</th>\n",
       "      <td>Afrique du Nord et Moyen-Orient</td>\n",
       "      <td>20563.877642</td>\n",
       "    </tr>\n",
       "    <tr>\n",
       "      <th>2</th>\n",
       "      <td>Afrique du Nord et Moyen-Orient (BIRD et IDA)</td>\n",
       "      <td>14171.919357</td>\n",
       "    </tr>\n",
       "    <tr>\n",
       "      <th>3</th>\n",
       "      <td>Afrique du Nord et Moyen-Orient (hors revenu é...</td>\n",
       "      <td>14072.765027</td>\n",
       "    </tr>\n",
       "    <tr>\n",
       "      <th>4</th>\n",
       "      <td>Afrique du Sud</td>\n",
       "      <td>15194.199176</td>\n",
       "    </tr>\n",
       "  </tbody>\n",
       "</table>\n",
       "</div>"
      ],
      "text/plain": [
       "                                                Pays  Activité économique\n",
       "0                                        Afghanistan          2211.280635\n",
       "1                    Afrique du Nord et Moyen-Orient         20563.877642\n",
       "2      Afrique du Nord et Moyen-Orient (BIRD et IDA)         14171.919357\n",
       "3  Afrique du Nord et Moyen-Orient (hors revenu é...         14072.765027\n",
       "4                                     Afrique du Sud         15194.199176"
      ]
     },
     "execution_count": 33,
     "metadata": {},
     "output_type": "execute_result"
    }
   ],
   "source": [
    "df_pib.head()"
   ]
  },
  {
   "cell_type": "markdown",
   "metadata": {},
   "source": [
    "### 1.8 - Chargement des données Restaurants KFC"
   ]
  },
  {
   "cell_type": "code",
   "execution_count": 34,
   "metadata": {},
   "outputs": [
    {
     "data": {
      "application/vnd.microsoft.datawrangler.viewer.v0+json": {
       "columns": [
        {
         "name": "index",
         "rawType": "int64",
         "type": "integer"
        },
        {
         "name": "Pays",
         "rawType": "object",
         "type": "string"
        },
        {
         "name": "ISO",
         "rawType": "object",
         "type": "string"
        },
        {
         "name": "Restaurants_KFC",
         "rawType": "int64",
         "type": "integer"
        }
       ],
       "conversionMethod": "pd.DataFrame",
       "ref": "48064e90-295f-479b-91eb-d12493c3439b",
       "rows": [
        [
         "0",
         "Chine",
         "CHN",
         "7980"
        ],
        [
         "1",
         "États-Unis",
         "USA",
         "4062"
        ],
        [
         "2",
         "Japon",
         "JPN",
         "1131"
        ],
        [
         "3",
         "Afrique du Sud",
         "ZAF",
         "955"
        ],
        [
         "4",
         "Royaume-Uni",
         "GBR",
         "909"
        ]
       ],
       "shape": {
        "columns": 3,
        "rows": 5
       }
      },
      "text/html": [
       "<div>\n",
       "<style scoped>\n",
       "    .dataframe tbody tr th:only-of-type {\n",
       "        vertical-align: middle;\n",
       "    }\n",
       "\n",
       "    .dataframe tbody tr th {\n",
       "        vertical-align: top;\n",
       "    }\n",
       "\n",
       "    .dataframe thead th {\n",
       "        text-align: right;\n",
       "    }\n",
       "</style>\n",
       "<table border=\"1\" class=\"dataframe\">\n",
       "  <thead>\n",
       "    <tr style=\"text-align: right;\">\n",
       "      <th></th>\n",
       "      <th>Pays</th>\n",
       "      <th>ISO</th>\n",
       "      <th>Restaurants_KFC</th>\n",
       "    </tr>\n",
       "  </thead>\n",
       "  <tbody>\n",
       "    <tr>\n",
       "      <th>0</th>\n",
       "      <td>Chine</td>\n",
       "      <td>CHN</td>\n",
       "      <td>7980</td>\n",
       "    </tr>\n",
       "    <tr>\n",
       "      <th>1</th>\n",
       "      <td>États-Unis</td>\n",
       "      <td>USA</td>\n",
       "      <td>4062</td>\n",
       "    </tr>\n",
       "    <tr>\n",
       "      <th>2</th>\n",
       "      <td>Japon</td>\n",
       "      <td>JPN</td>\n",
       "      <td>1131</td>\n",
       "    </tr>\n",
       "    <tr>\n",
       "      <th>3</th>\n",
       "      <td>Afrique du Sud</td>\n",
       "      <td>ZAF</td>\n",
       "      <td>955</td>\n",
       "    </tr>\n",
       "    <tr>\n",
       "      <th>4</th>\n",
       "      <td>Royaume-Uni</td>\n",
       "      <td>GBR</td>\n",
       "      <td>909</td>\n",
       "    </tr>\n",
       "  </tbody>\n",
       "</table>\n",
       "</div>"
      ],
      "text/plain": [
       "             Pays  ISO  Restaurants_KFC\n",
       "0           Chine  CHN             7980\n",
       "1      États-Unis  USA             4062\n",
       "2           Japon  JPN             1131\n",
       "3  Afrique du Sud  ZAF              955\n",
       "4     Royaume-Uni  GBR              909"
      ]
     },
     "execution_count": 34,
     "metadata": {},
     "output_type": "execute_result"
    }
   ],
   "source": [
    "# Importation du fichier RestaurantsKFC.csv\n",
    "df_kfc = pd.read_csv(\"../data/RestaurantsKFC.csv\", sep=';')\n",
    "df_kfc.head()"
   ]
  },
  {
   "cell_type": "code",
   "execution_count": 35,
   "metadata": {},
   "outputs": [
    {
     "data": {
      "application/vnd.microsoft.datawrangler.viewer.v0+json": {
       "columns": [
        {
         "name": "index",
         "rawType": "int64",
         "type": "integer"
        },
        {
         "name": "ISO",
         "rawType": "object",
         "type": "string"
        },
        {
         "name": "KFC",
         "rawType": "int64",
         "type": "integer"
        }
       ],
       "conversionMethod": "pd.DataFrame",
       "ref": "eb39e047-e108-4e8c-99cf-5e1daffad334",
       "rows": [
        [
         "0",
         "CHN",
         "7980"
        ],
        [
         "1",
         "USA",
         "4062"
        ],
        [
         "2",
         "JPN",
         "1131"
        ],
        [
         "3",
         "ZAF",
         "955"
        ],
        [
         "4",
         "GBR",
         "909"
        ]
       ],
       "shape": {
        "columns": 2,
        "rows": 5
       }
      },
      "text/html": [
       "<div>\n",
       "<style scoped>\n",
       "    .dataframe tbody tr th:only-of-type {\n",
       "        vertical-align: middle;\n",
       "    }\n",
       "\n",
       "    .dataframe tbody tr th {\n",
       "        vertical-align: top;\n",
       "    }\n",
       "\n",
       "    .dataframe thead th {\n",
       "        text-align: right;\n",
       "    }\n",
       "</style>\n",
       "<table border=\"1\" class=\"dataframe\">\n",
       "  <thead>\n",
       "    <tr style=\"text-align: right;\">\n",
       "      <th></th>\n",
       "      <th>ISO</th>\n",
       "      <th>KFC</th>\n",
       "    </tr>\n",
       "  </thead>\n",
       "  <tbody>\n",
       "    <tr>\n",
       "      <th>0</th>\n",
       "      <td>CHN</td>\n",
       "      <td>7980</td>\n",
       "    </tr>\n",
       "    <tr>\n",
       "      <th>1</th>\n",
       "      <td>USA</td>\n",
       "      <td>4062</td>\n",
       "    </tr>\n",
       "    <tr>\n",
       "      <th>2</th>\n",
       "      <td>JPN</td>\n",
       "      <td>1131</td>\n",
       "    </tr>\n",
       "    <tr>\n",
       "      <th>3</th>\n",
       "      <td>ZAF</td>\n",
       "      <td>955</td>\n",
       "    </tr>\n",
       "    <tr>\n",
       "      <th>4</th>\n",
       "      <td>GBR</td>\n",
       "      <td>909</td>\n",
       "    </tr>\n",
       "  </tbody>\n",
       "</table>\n",
       "</div>"
      ],
      "text/plain": [
       "   ISO   KFC\n",
       "0  CHN  7980\n",
       "1  USA  4062\n",
       "2  JPN  1131\n",
       "3  ZAF   955\n",
       "4  GBR   909"
      ]
     },
     "execution_count": 35,
     "metadata": {},
     "output_type": "execute_result"
    }
   ],
   "source": [
    "df_kfc.drop(columns=['Pays'], inplace=True)\n",
    "df_kfc.rename(columns={'Restaurants_KFC': 'KFC'}, inplace=True)\n",
    "df_kfc.head()"
   ]
  },
  {
   "cell_type": "markdown",
   "metadata": {},
   "source": [
    "### 1.9 - Chargement des données de Transport maritime"
   ]
  },
  {
   "cell_type": "code",
   "execution_count": 36,
   "metadata": {},
   "outputs": [
    {
     "data": {
      "application/vnd.microsoft.datawrangler.viewer.v0+json": {
       "columns": [
        {
         "name": "index",
         "rawType": "int64",
         "type": "integer"
        },
        {
         "name": "iso1",
         "rawType": "object",
         "type": "string"
        },
        {
         "name": "iso2",
         "rawType": "object",
         "type": "string"
        },
        {
         "name": "seadistance",
         "rawType": "int64",
         "type": "integer"
        },
        {
         "name": "capitalport1",
         "rawType": "float64",
         "type": "float"
        },
        {
         "name": "capitalport2",
         "rawType": "float64",
         "type": "float"
        },
        {
         "name": "roaddistance",
         "rawType": "float64",
         "type": "float"
        },
        {
         "name": "short",
         "rawType": "int64",
         "type": "integer"
        }
       ],
       "conversionMethod": "pd.DataFrame",
       "ref": "253d8c47-eb53-4690-bf69-ebd1ca0c8214",
       "rows": [
        [
         "0",
         "ABW",
         "AFG",
         "16499",
         null,
         "1471.0",
         null,
         "0"
        ],
        [
         "1",
         "ABW",
         "AGO",
         "9437",
         null,
         "1184.0",
         null,
         "0"
        ],
        [
         "2",
         "ABW",
         "AIA",
         "957",
         null,
         null,
         null,
         "0"
        ],
        [
         "3",
         "ABW",
         "ALB",
         "8790",
         null,
         "248.0",
         null,
         "0"
        ],
        [
         "4",
         "ABW",
         "AND",
         "7685",
         null,
         "453.0",
         null,
         "0"
        ]
       ],
       "shape": {
        "columns": 7,
        "rows": 5
       }
      },
      "text/html": [
       "<div>\n",
       "<style scoped>\n",
       "    .dataframe tbody tr th:only-of-type {\n",
       "        vertical-align: middle;\n",
       "    }\n",
       "\n",
       "    .dataframe tbody tr th {\n",
       "        vertical-align: top;\n",
       "    }\n",
       "\n",
       "    .dataframe thead th {\n",
       "        text-align: right;\n",
       "    }\n",
       "</style>\n",
       "<table border=\"1\" class=\"dataframe\">\n",
       "  <thead>\n",
       "    <tr style=\"text-align: right;\">\n",
       "      <th></th>\n",
       "      <th>iso1</th>\n",
       "      <th>iso2</th>\n",
       "      <th>seadistance</th>\n",
       "      <th>capitalport1</th>\n",
       "      <th>capitalport2</th>\n",
       "      <th>roaddistance</th>\n",
       "      <th>short</th>\n",
       "    </tr>\n",
       "  </thead>\n",
       "  <tbody>\n",
       "    <tr>\n",
       "      <th>0</th>\n",
       "      <td>ABW</td>\n",
       "      <td>AFG</td>\n",
       "      <td>16499</td>\n",
       "      <td>NaN</td>\n",
       "      <td>1471.0</td>\n",
       "      <td>NaN</td>\n",
       "      <td>0</td>\n",
       "    </tr>\n",
       "    <tr>\n",
       "      <th>1</th>\n",
       "      <td>ABW</td>\n",
       "      <td>AGO</td>\n",
       "      <td>9437</td>\n",
       "      <td>NaN</td>\n",
       "      <td>1184.0</td>\n",
       "      <td>NaN</td>\n",
       "      <td>0</td>\n",
       "    </tr>\n",
       "    <tr>\n",
       "      <th>2</th>\n",
       "      <td>ABW</td>\n",
       "      <td>AIA</td>\n",
       "      <td>957</td>\n",
       "      <td>NaN</td>\n",
       "      <td>NaN</td>\n",
       "      <td>NaN</td>\n",
       "      <td>0</td>\n",
       "    </tr>\n",
       "    <tr>\n",
       "      <th>3</th>\n",
       "      <td>ABW</td>\n",
       "      <td>ALB</td>\n",
       "      <td>8790</td>\n",
       "      <td>NaN</td>\n",
       "      <td>248.0</td>\n",
       "      <td>NaN</td>\n",
       "      <td>0</td>\n",
       "    </tr>\n",
       "    <tr>\n",
       "      <th>4</th>\n",
       "      <td>ABW</td>\n",
       "      <td>AND</td>\n",
       "      <td>7685</td>\n",
       "      <td>NaN</td>\n",
       "      <td>453.0</td>\n",
       "      <td>NaN</td>\n",
       "      <td>0</td>\n",
       "    </tr>\n",
       "  </tbody>\n",
       "</table>\n",
       "</div>"
      ],
      "text/plain": [
       "  iso1 iso2  seadistance  capitalport1  capitalport2  roaddistance  short\n",
       "0  ABW  AFG        16499           NaN        1471.0           NaN      0\n",
       "1  ABW  AGO         9437           NaN        1184.0           NaN      0\n",
       "2  ABW  AIA          957           NaN           NaN           NaN      0\n",
       "3  ABW  ALB         8790           NaN         248.0           NaN      0\n",
       "4  ABW  AND         7685           NaN         453.0           NaN      0"
      ]
     },
     "execution_count": 36,
     "metadata": {},
     "output_type": "execute_result"
    }
   ],
   "source": [
    "# Importation du fichier TransportMaritime.csv\n",
    "df_transport = pd.read_csv(\"../data/TransportMaritime.csv\", sep=';')\n",
    "df_transport.head()"
   ]
  },
  {
   "cell_type": "code",
   "execution_count": 37,
   "metadata": {},
   "outputs": [],
   "source": [
    "df_transport = df_transport.loc[df_transport['iso1'] == 'FRA']"
   ]
  },
  {
   "cell_type": "code",
   "execution_count": 38,
   "metadata": {},
   "outputs": [
    {
     "data": {
      "application/vnd.microsoft.datawrangler.viewer.v0+json": {
       "columns": [
        {
         "name": "index",
         "rawType": "int64",
         "type": "integer"
        },
        {
         "name": "ISO",
         "rawType": "object",
         "type": "string"
        },
        {
         "name": "Distance",
         "rawType": "int64",
         "type": "integer"
        }
       ],
       "conversionMethod": "pd.DataFrame",
       "ref": "db8c909f-5fed-4aa8-8a22-a3323fdd99be",
       "rows": [
        [
         "14916",
         "ABW",
         "7685"
        ],
        [
         "14917",
         "AFG",
         "7725"
        ],
        [
         "14918",
         "AGO",
         "8723"
        ],
        [
         "14919",
         "AIA",
         "6785"
        ],
        [
         "14920",
         "ALB",
         "1398"
        ]
       ],
       "shape": {
        "columns": 2,
        "rows": 5
       }
      },
      "text/html": [
       "<div>\n",
       "<style scoped>\n",
       "    .dataframe tbody tr th:only-of-type {\n",
       "        vertical-align: middle;\n",
       "    }\n",
       "\n",
       "    .dataframe tbody tr th {\n",
       "        vertical-align: top;\n",
       "    }\n",
       "\n",
       "    .dataframe thead th {\n",
       "        text-align: right;\n",
       "    }\n",
       "</style>\n",
       "<table border=\"1\" class=\"dataframe\">\n",
       "  <thead>\n",
       "    <tr style=\"text-align: right;\">\n",
       "      <th></th>\n",
       "      <th>ISO</th>\n",
       "      <th>Distance</th>\n",
       "    </tr>\n",
       "  </thead>\n",
       "  <tbody>\n",
       "    <tr>\n",
       "      <th>14916</th>\n",
       "      <td>ABW</td>\n",
       "      <td>7685</td>\n",
       "    </tr>\n",
       "    <tr>\n",
       "      <th>14917</th>\n",
       "      <td>AFG</td>\n",
       "      <td>7725</td>\n",
       "    </tr>\n",
       "    <tr>\n",
       "      <th>14918</th>\n",
       "      <td>AGO</td>\n",
       "      <td>8723</td>\n",
       "    </tr>\n",
       "    <tr>\n",
       "      <th>14919</th>\n",
       "      <td>AIA</td>\n",
       "      <td>6785</td>\n",
       "    </tr>\n",
       "    <tr>\n",
       "      <th>14920</th>\n",
       "      <td>ALB</td>\n",
       "      <td>1398</td>\n",
       "    </tr>\n",
       "  </tbody>\n",
       "</table>\n",
       "</div>"
      ],
      "text/plain": [
       "       ISO  Distance\n",
       "14916  ABW      7685\n",
       "14917  AFG      7725\n",
       "14918  AGO      8723\n",
       "14919  AIA      6785\n",
       "14920  ALB      1398"
      ]
     },
     "execution_count": 38,
     "metadata": {},
     "output_type": "execute_result"
    }
   ],
   "source": [
    "df_transport.drop(columns=['iso1', 'capitalport1', 'capitalport2', 'roaddistance', 'short'], inplace=True)\n",
    "df_transport.rename(columns={'iso2': 'ISO', 'seadistance': 'Distance'}, inplace=True)\n",
    "df_transport.head()"
   ]
  },
  {
   "cell_type": "markdown",
   "metadata": {},
   "source": [
    "### 1.10 - Chargement des données de Revenu National Brut par habitant, méthode Atlas, en $US courants (source : Banque Mondiale)"
   ]
  },
  {
   "cell_type": "code",
   "execution_count": 39,
   "metadata": {},
   "outputs": [
    {
     "data": {
      "application/vnd.microsoft.datawrangler.viewer.v0+json": {
       "columns": [
        {
         "name": "index",
         "rawType": "int64",
         "type": "integer"
        },
        {
         "name": "Pays",
         "rawType": "object",
         "type": "unknown"
        },
        {
         "name": "ISO",
         "rawType": "object",
         "type": "string"
        },
        {
         "name": "Revenu",
         "rawType": "float64",
         "type": "float"
        }
       ],
       "conversionMethod": "pd.DataFrame",
       "ref": "dc43daf3-fb85-4969-9cce-4c29bf492173",
       "rows": [
        [
         "0",
         "Aruba",
         "ABW",
         "30590.0"
        ],
        [
         "1",
         null,
         "AFE",
         "1534.02714441288"
        ],
        [
         "2",
         "Afghanistan",
         "AFG",
         "370.0"
        ],
        [
         "3",
         null,
         "AFW",
         "1771.57065373574"
        ],
        [
         "4",
         "Angola",
         "AGO",
         "1870.0"
        ]
       ],
       "shape": {
        "columns": 3,
        "rows": 5
       }
      },
      "text/html": [
       "<div>\n",
       "<style scoped>\n",
       "    .dataframe tbody tr th:only-of-type {\n",
       "        vertical-align: middle;\n",
       "    }\n",
       "\n",
       "    .dataframe tbody tr th {\n",
       "        vertical-align: top;\n",
       "    }\n",
       "\n",
       "    .dataframe thead th {\n",
       "        text-align: right;\n",
       "    }\n",
       "</style>\n",
       "<table border=\"1\" class=\"dataframe\">\n",
       "  <thead>\n",
       "    <tr style=\"text-align: right;\">\n",
       "      <th></th>\n",
       "      <th>Pays</th>\n",
       "      <th>ISO</th>\n",
       "      <th>Revenu</th>\n",
       "    </tr>\n",
       "  </thead>\n",
       "  <tbody>\n",
       "    <tr>\n",
       "      <th>0</th>\n",
       "      <td>Aruba</td>\n",
       "      <td>ABW</td>\n",
       "      <td>30590.000000</td>\n",
       "    </tr>\n",
       "    <tr>\n",
       "      <th>1</th>\n",
       "      <td>NaN</td>\n",
       "      <td>AFE</td>\n",
       "      <td>1534.027144</td>\n",
       "    </tr>\n",
       "    <tr>\n",
       "      <th>2</th>\n",
       "      <td>Afghanistan</td>\n",
       "      <td>AFG</td>\n",
       "      <td>370.000000</td>\n",
       "    </tr>\n",
       "    <tr>\n",
       "      <th>3</th>\n",
       "      <td>NaN</td>\n",
       "      <td>AFW</td>\n",
       "      <td>1771.570654</td>\n",
       "    </tr>\n",
       "    <tr>\n",
       "      <th>4</th>\n",
       "      <td>Angola</td>\n",
       "      <td>AGO</td>\n",
       "      <td>1870.000000</td>\n",
       "    </tr>\n",
       "  </tbody>\n",
       "</table>\n",
       "</div>"
      ],
      "text/plain": [
       "          Pays  ISO        Revenu\n",
       "0        Aruba  ABW  30590.000000\n",
       "1          NaN  AFE   1534.027144\n",
       "2  Afghanistan  AFG    370.000000\n",
       "3          NaN  AFW   1771.570654\n",
       "4       Angola  AGO   1870.000000"
      ]
     },
     "execution_count": 39,
     "metadata": {},
     "output_type": "execute_result"
    }
   ],
   "source": [
    "# Importation du ficher RevenuNationBrut.csv\n",
    "df_revenu = pd.read_csv(\"../data/RevenuNationalBrut.csv\", sep=';')\n",
    "df_revenu.head()"
   ]
  },
  {
   "cell_type": "code",
   "execution_count": 40,
   "metadata": {},
   "outputs": [
    {
     "data": {
      "application/vnd.microsoft.datawrangler.viewer.v0+json": {
       "columns": [
        {
         "name": "index",
         "rawType": "int64",
         "type": "integer"
        },
        {
         "name": "ISO",
         "rawType": "object",
         "type": "string"
        },
        {
         "name": "Revenu",
         "rawType": "float64",
         "type": "float"
        }
       ],
       "conversionMethod": "pd.DataFrame",
       "ref": "434460cd-3b11-4827-b33a-c940c9b6adfa",
       "rows": [
        [
         "0",
         "ABW",
         "30590.0"
        ],
        [
         "1",
         "AFE",
         "1534.0"
        ],
        [
         "2",
         "AFG",
         "370.0"
        ],
        [
         "3",
         "AFW",
         "1772.0"
        ],
        [
         "4",
         "AGO",
         "1870.0"
        ]
       ],
       "shape": {
        "columns": 2,
        "rows": 5
       }
      },
      "text/html": [
       "<div>\n",
       "<style scoped>\n",
       "    .dataframe tbody tr th:only-of-type {\n",
       "        vertical-align: middle;\n",
       "    }\n",
       "\n",
       "    .dataframe tbody tr th {\n",
       "        vertical-align: top;\n",
       "    }\n",
       "\n",
       "    .dataframe thead th {\n",
       "        text-align: right;\n",
       "    }\n",
       "</style>\n",
       "<table border=\"1\" class=\"dataframe\">\n",
       "  <thead>\n",
       "    <tr style=\"text-align: right;\">\n",
       "      <th></th>\n",
       "      <th>ISO</th>\n",
       "      <th>Revenu</th>\n",
       "    </tr>\n",
       "  </thead>\n",
       "  <tbody>\n",
       "    <tr>\n",
       "      <th>0</th>\n",
       "      <td>ABW</td>\n",
       "      <td>30590.0</td>\n",
       "    </tr>\n",
       "    <tr>\n",
       "      <th>1</th>\n",
       "      <td>AFE</td>\n",
       "      <td>1534.0</td>\n",
       "    </tr>\n",
       "    <tr>\n",
       "      <th>2</th>\n",
       "      <td>AFG</td>\n",
       "      <td>370.0</td>\n",
       "    </tr>\n",
       "    <tr>\n",
       "      <th>3</th>\n",
       "      <td>AFW</td>\n",
       "      <td>1772.0</td>\n",
       "    </tr>\n",
       "    <tr>\n",
       "      <th>4</th>\n",
       "      <td>AGO</td>\n",
       "      <td>1870.0</td>\n",
       "    </tr>\n",
       "  </tbody>\n",
       "</table>\n",
       "</div>"
      ],
      "text/plain": [
       "   ISO   Revenu\n",
       "0  ABW  30590.0\n",
       "1  AFE   1534.0\n",
       "2  AFG    370.0\n",
       "3  AFW   1772.0\n",
       "4  AGO   1870.0"
      ]
     },
     "execution_count": 40,
     "metadata": {},
     "output_type": "execute_result"
    }
   ],
   "source": [
    "df_revenu.drop(columns=['Pays'], inplace=True)\n",
    "df_revenu['Revenu'] = round(df_revenu['Revenu'])\n",
    "df_revenu.head()"
   ]
  },
  {
   "cell_type": "markdown",
   "metadata": {},
   "source": [
    "<img src=\"../gfx/sep.jpg\" alt=\"Barre\">"
   ]
  },
  {
   "cell_type": "markdown",
   "metadata": {},
   "source": [
    "## Etape 2 - Fusion des dataframes"
   ]
  },
  {
   "cell_type": "markdown",
   "metadata": {},
   "source": [
    "***"
   ]
  },
  {
   "cell_type": "code",
   "execution_count": 41,
   "metadata": {},
   "outputs": [],
   "source": [
    "df_merge = df_pays.merge(df_population, on='Pays', how='inner')"
   ]
  },
  {
   "cell_type": "code",
   "execution_count": 42,
   "metadata": {},
   "outputs": [],
   "source": [
    "df_merge = df_merge.merge(df_bilanalim, how='inner', on='M49')\n",
    "df_merge = df_merge.merge(df_stabilite, how='inner', on='M49')\n",
    "df_merge = df_merge.merge(df_inflation, how='inner', on='Pays')\n",
    "df_merge = df_merge.merge(df_pib, how='inner', on='Pays')\n",
    "df_merge = df_merge.merge(df_revenu, how='inner', on='ISO')"
   ]
  },
  {
   "cell_type": "code",
   "execution_count": 43,
   "metadata": {},
   "outputs": [],
   "source": [
    "df_merge = df_merge.merge(df_kfc, how='left', on='ISO')"
   ]
  },
  {
   "cell_type": "code",
   "execution_count": 44,
   "metadata": {},
   "outputs": [],
   "source": [
    "df_merge = df_merge.merge(df_transport, how='left', on='ISO')"
   ]
  },
  {
   "cell_type": "code",
   "execution_count": 45,
   "metadata": {},
   "outputs": [],
   "source": [
    "# Remplacement des Na par 0.0 dans les colonnes Exportations/Importations/Consommation/Production\n",
    "df_merge['Exportations'] = df_merge['Exportations'].fillna(0)\n",
    "df_merge['Importations'] = df_merge['Importations'].fillna(0)\n",
    "df_merge['Consommation'] = df_merge['Consommation'].fillna(0)\n",
    "df_merge['Production'] = df_merge['Production'].fillna(0)\n",
    "df_merge['KFC'] = df_merge['KFC'].fillna(0)"
   ]
  },
  {
   "cell_type": "code",
   "execution_count": 46,
   "metadata": {},
   "outputs": [
    {
     "data": {
      "application/vnd.microsoft.datawrangler.viewer.v0+json": {
       "columns": [
        {
         "name": "index",
         "rawType": "int64",
         "type": "integer"
        },
        {
         "name": "ISO",
         "rawType": "object",
         "type": "string"
        },
        {
         "name": "Pays",
         "rawType": "object",
         "type": "string"
        },
        {
         "name": "M49",
         "rawType": "int64",
         "type": "integer"
        },
        {
         "name": "Countries",
         "rawType": "object",
         "type": "string"
        },
        {
         "name": "Region",
         "rawType": "object",
         "type": "string"
        },
        {
         "name": "Sub-region",
         "rawType": "object",
         "type": "string"
        },
        {
         "name": "Population",
         "rawType": "float64",
         "type": "float"
        },
        {
         "name": "Exportations",
         "rawType": "float64",
         "type": "float"
        },
        {
         "name": "Importations",
         "rawType": "float64",
         "type": "float"
        },
        {
         "name": "Consommation",
         "rawType": "float64",
         "type": "float"
        },
        {
         "name": "Production",
         "rawType": "float64",
         "type": "float"
        },
        {
         "name": "Stabilité Politique",
         "rawType": "float64",
         "type": "float"
        },
        {
         "name": "Inflation",
         "rawType": "float64",
         "type": "float"
        },
        {
         "name": "Activité économique",
         "rawType": "float64",
         "type": "float"
        },
        {
         "name": "Revenu",
         "rawType": "float64",
         "type": "float"
        },
        {
         "name": "KFC",
         "rawType": "float64",
         "type": "float"
        },
        {
         "name": "Distance",
         "rawType": "float64",
         "type": "float"
        }
       ],
       "conversionMethod": "pd.DataFrame",
       "ref": "be5b8dc2-d122-4d55-b649-2a91e3362a56",
       "rows": [
        [
         "52",
         "FRA",
         "France",
         "250",
         "France",
         "Europe",
         "Western Europe",
         "64990511.0",
         "400000.0",
         "667000.0",
         "1590000.0",
         "1478000.0",
         "0.33",
         "4.87835726508441",
         "61473.3030822433",
         "45180.0",
         "363.0",
         null
        ]
       ],
       "shape": {
        "columns": 17,
        "rows": 1
       }
      },
      "text/html": [
       "<div>\n",
       "<style scoped>\n",
       "    .dataframe tbody tr th:only-of-type {\n",
       "        vertical-align: middle;\n",
       "    }\n",
       "\n",
       "    .dataframe tbody tr th {\n",
       "        vertical-align: top;\n",
       "    }\n",
       "\n",
       "    .dataframe thead th {\n",
       "        text-align: right;\n",
       "    }\n",
       "</style>\n",
       "<table border=\"1\" class=\"dataframe\">\n",
       "  <thead>\n",
       "    <tr style=\"text-align: right;\">\n",
       "      <th></th>\n",
       "      <th>ISO</th>\n",
       "      <th>Pays</th>\n",
       "      <th>M49</th>\n",
       "      <th>Countries</th>\n",
       "      <th>Region</th>\n",
       "      <th>Sub-region</th>\n",
       "      <th>Population</th>\n",
       "      <th>Exportations</th>\n",
       "      <th>Importations</th>\n",
       "      <th>Consommation</th>\n",
       "      <th>Production</th>\n",
       "      <th>Stabilité Politique</th>\n",
       "      <th>Inflation</th>\n",
       "      <th>Activité économique</th>\n",
       "      <th>Revenu</th>\n",
       "      <th>KFC</th>\n",
       "      <th>Distance</th>\n",
       "    </tr>\n",
       "  </thead>\n",
       "  <tbody>\n",
       "    <tr>\n",
       "      <th>52</th>\n",
       "      <td>FRA</td>\n",
       "      <td>France</td>\n",
       "      <td>250</td>\n",
       "      <td>France</td>\n",
       "      <td>Europe</td>\n",
       "      <td>Western Europe</td>\n",
       "      <td>64990511.0</td>\n",
       "      <td>400000.0</td>\n",
       "      <td>667000.0</td>\n",
       "      <td>1590000.0</td>\n",
       "      <td>1478000.0</td>\n",
       "      <td>0.33</td>\n",
       "      <td>4.878357</td>\n",
       "      <td>61473.303082</td>\n",
       "      <td>45180.0</td>\n",
       "      <td>363.0</td>\n",
       "      <td>NaN</td>\n",
       "    </tr>\n",
       "  </tbody>\n",
       "</table>\n",
       "</div>"
      ],
      "text/plain": [
       "    ISO    Pays  M49 Countries  Region      Sub-region  Population  \\\n",
       "52  FRA  France  250    France  Europe  Western Europe  64990511.0   \n",
       "\n",
       "    Exportations  Importations  Consommation  Production  Stabilité Politique  \\\n",
       "52      400000.0      667000.0     1590000.0   1478000.0                 0.33   \n",
       "\n",
       "    Inflation  Activité économique   Revenu    KFC  Distance  \n",
       "52   4.878357         61473.303082  45180.0  363.0       NaN  "
      ]
     },
     "execution_count": 46,
     "metadata": {},
     "output_type": "execute_result"
    }
   ],
   "source": [
    "# Extraire les données de la France comme référence\n",
    "df_france = df_merge.loc[df_merge['ISO'] == 'FRA']\n",
    "df_france.head()"
   ]
  },
  {
   "cell_type": "code",
   "execution_count": 47,
   "metadata": {},
   "outputs": [],
   "source": [
    "# Supprimer la France\n",
    "df_merge = df_merge[df_merge.Pays != 'France']"
   ]
  },
  {
   "cell_type": "code",
   "execution_count": 48,
   "metadata": {},
   "outputs": [],
   "source": [
    "# Suppression des Na restants\n",
    "df_merge.dropna(inplace=True)"
   ]
  },
  {
   "cell_type": "code",
   "execution_count": 49,
   "metadata": {},
   "outputs": [
    {
     "data": {
      "application/vnd.microsoft.datawrangler.viewer.v0+json": {
       "columns": [
        {
         "name": "index",
         "rawType": "int64",
         "type": "integer"
        },
        {
         "name": "Pays",
         "rawType": "object",
         "type": "string"
        },
        {
         "name": "Region",
         "rawType": "object",
         "type": "string"
        },
        {
         "name": "Sub-region",
         "rawType": "object",
         "type": "string"
        },
        {
         "name": "Population",
         "rawType": "float64",
         "type": "float"
        },
        {
         "name": "Exportations",
         "rawType": "float64",
         "type": "float"
        },
        {
         "name": "Importations",
         "rawType": "float64",
         "type": "float"
        },
        {
         "name": "Consommation",
         "rawType": "float64",
         "type": "float"
        },
        {
         "name": "Production",
         "rawType": "float64",
         "type": "float"
        },
        {
         "name": "Stabilité Politique",
         "rawType": "float64",
         "type": "float"
        },
        {
         "name": "Inflation",
         "rawType": "float64",
         "type": "float"
        },
        {
         "name": "Activité économique",
         "rawType": "float64",
         "type": "float"
        },
        {
         "name": "Revenu",
         "rawType": "float64",
         "type": "float"
        },
        {
         "name": "KFC",
         "rawType": "float64",
         "type": "float"
        },
        {
         "name": "Distance",
         "rawType": "float64",
         "type": "float"
        }
       ],
       "conversionMethod": "pd.DataFrame",
       "ref": "2c42661d-dc72-4844-83c0-083585f4a88c",
       "rows": [
        [
         "0",
         "Afghanistan",
         "Asia",
         "Southern Asia",
         "37171921.0",
         "0.0",
         "7000.0",
         "36000.0",
         "29000.0",
         "-2.55",
         "2.30237251516819",
         "2211.28063454007",
         "370.0",
         "0.0",
         "7725.0"
        ],
        [
         "1",
         "Albanie",
         "Europe",
         "Southern Europe",
         "2882740.0",
         "0.0",
         "47000.0",
         "64000.0",
         "18000.0",
         "0.11",
         "4.75976421930107",
         "21925.6083767592",
         "6820.0",
         "8.0",
         "1398.0"
        ],
        [
         "2",
         "Algérie",
         "Africa",
         "Northern Africa",
         "42228408.0",
         "0.0",
         "0.0",
         "275000.0",
         "275000.0",
         "-0.74",
         "9.32217375928322",
         "16824.4879032987",
         "4430.0",
         "2.0",
         "865.0"
        ],
        [
         "3",
         "Angola",
         "Africa",
         "Sub-Saharan Africa",
         "30809787.0",
         "0.0",
         "316000.0",
         "374000.0",
         "59000.0",
         "-0.65",
         "13.6441017767715",
         "8040.70244971812",
         "1870.0",
         "9.0",
         "8723.0"
        ],
        [
         "4",
         "Argentine",
         "Americas",
         "Latin America and the Caribbean",
         "44361150.0",
         "182000.0",
         "14000.0",
         "2193000.0",
         "2361000.0",
         "-0.01",
         "94.8",
         "30082.3045247323",
         "11820.0",
         "0.0",
         "13197.0"
        ]
       ],
       "shape": {
        "columns": 14,
        "rows": 5
       }
      },
      "text/html": [
       "<div>\n",
       "<style scoped>\n",
       "    .dataframe tbody tr th:only-of-type {\n",
       "        vertical-align: middle;\n",
       "    }\n",
       "\n",
       "    .dataframe tbody tr th {\n",
       "        vertical-align: top;\n",
       "    }\n",
       "\n",
       "    .dataframe thead th {\n",
       "        text-align: right;\n",
       "    }\n",
       "</style>\n",
       "<table border=\"1\" class=\"dataframe\">\n",
       "  <thead>\n",
       "    <tr style=\"text-align: right;\">\n",
       "      <th></th>\n",
       "      <th>Pays</th>\n",
       "      <th>Region</th>\n",
       "      <th>Sub-region</th>\n",
       "      <th>Population</th>\n",
       "      <th>Exportations</th>\n",
       "      <th>Importations</th>\n",
       "      <th>Consommation</th>\n",
       "      <th>Production</th>\n",
       "      <th>Stabilité Politique</th>\n",
       "      <th>Inflation</th>\n",
       "      <th>Activité économique</th>\n",
       "      <th>Revenu</th>\n",
       "      <th>KFC</th>\n",
       "      <th>Distance</th>\n",
       "    </tr>\n",
       "  </thead>\n",
       "  <tbody>\n",
       "    <tr>\n",
       "      <th>0</th>\n",
       "      <td>Afghanistan</td>\n",
       "      <td>Asia</td>\n",
       "      <td>Southern Asia</td>\n",
       "      <td>37171921.0</td>\n",
       "      <td>0.0</td>\n",
       "      <td>7000.0</td>\n",
       "      <td>36000.0</td>\n",
       "      <td>29000.0</td>\n",
       "      <td>-2.55</td>\n",
       "      <td>2.302373</td>\n",
       "      <td>2211.280635</td>\n",
       "      <td>370.0</td>\n",
       "      <td>0.0</td>\n",
       "      <td>7725.0</td>\n",
       "    </tr>\n",
       "    <tr>\n",
       "      <th>1</th>\n",
       "      <td>Albanie</td>\n",
       "      <td>Europe</td>\n",
       "      <td>Southern Europe</td>\n",
       "      <td>2882740.0</td>\n",
       "      <td>0.0</td>\n",
       "      <td>47000.0</td>\n",
       "      <td>64000.0</td>\n",
       "      <td>18000.0</td>\n",
       "      <td>0.11</td>\n",
       "      <td>4.759764</td>\n",
       "      <td>21925.608377</td>\n",
       "      <td>6820.0</td>\n",
       "      <td>8.0</td>\n",
       "      <td>1398.0</td>\n",
       "    </tr>\n",
       "    <tr>\n",
       "      <th>2</th>\n",
       "      <td>Algérie</td>\n",
       "      <td>Africa</td>\n",
       "      <td>Northern Africa</td>\n",
       "      <td>42228408.0</td>\n",
       "      <td>0.0</td>\n",
       "      <td>0.0</td>\n",
       "      <td>275000.0</td>\n",
       "      <td>275000.0</td>\n",
       "      <td>-0.74</td>\n",
       "      <td>9.322174</td>\n",
       "      <td>16824.487903</td>\n",
       "      <td>4430.0</td>\n",
       "      <td>2.0</td>\n",
       "      <td>865.0</td>\n",
       "    </tr>\n",
       "    <tr>\n",
       "      <th>3</th>\n",
       "      <td>Angola</td>\n",
       "      <td>Africa</td>\n",
       "      <td>Sub-Saharan Africa</td>\n",
       "      <td>30809787.0</td>\n",
       "      <td>0.0</td>\n",
       "      <td>316000.0</td>\n",
       "      <td>374000.0</td>\n",
       "      <td>59000.0</td>\n",
       "      <td>-0.65</td>\n",
       "      <td>13.644102</td>\n",
       "      <td>8040.702450</td>\n",
       "      <td>1870.0</td>\n",
       "      <td>9.0</td>\n",
       "      <td>8723.0</td>\n",
       "    </tr>\n",
       "    <tr>\n",
       "      <th>4</th>\n",
       "      <td>Argentine</td>\n",
       "      <td>Americas</td>\n",
       "      <td>Latin America and the Caribbean</td>\n",
       "      <td>44361150.0</td>\n",
       "      <td>182000.0</td>\n",
       "      <td>14000.0</td>\n",
       "      <td>2193000.0</td>\n",
       "      <td>2361000.0</td>\n",
       "      <td>-0.01</td>\n",
       "      <td>94.800000</td>\n",
       "      <td>30082.304525</td>\n",
       "      <td>11820.0</td>\n",
       "      <td>0.0</td>\n",
       "      <td>13197.0</td>\n",
       "    </tr>\n",
       "  </tbody>\n",
       "</table>\n",
       "</div>"
      ],
      "text/plain": [
       "          Pays    Region                       Sub-region  Population  \\\n",
       "0  Afghanistan      Asia                    Southern Asia  37171921.0   \n",
       "1      Albanie    Europe                  Southern Europe   2882740.0   \n",
       "2      Algérie    Africa                  Northern Africa  42228408.0   \n",
       "3       Angola    Africa               Sub-Saharan Africa  30809787.0   \n",
       "4    Argentine  Americas  Latin America and the Caribbean  44361150.0   \n",
       "\n",
       "   Exportations  Importations  Consommation  Production  Stabilité Politique  \\\n",
       "0           0.0        7000.0       36000.0     29000.0                -2.55   \n",
       "1           0.0       47000.0       64000.0     18000.0                 0.11   \n",
       "2           0.0           0.0      275000.0    275000.0                -0.74   \n",
       "3           0.0      316000.0      374000.0     59000.0                -0.65   \n",
       "4      182000.0       14000.0     2193000.0   2361000.0                -0.01   \n",
       "\n",
       "   Inflation  Activité économique   Revenu  KFC  Distance  \n",
       "0   2.302373          2211.280635    370.0  0.0    7725.0  \n",
       "1   4.759764         21925.608377   6820.0  8.0    1398.0  \n",
       "2   9.322174         16824.487903   4430.0  2.0     865.0  \n",
       "3  13.644102          8040.702450   1870.0  9.0    8723.0  \n",
       "4  94.800000         30082.304525  11820.0  0.0   13197.0  "
      ]
     },
     "execution_count": 49,
     "metadata": {},
     "output_type": "execute_result"
    }
   ],
   "source": [
    "# Suppression des colonnes inutiles pour l'analyse\n",
    "df_merge.drop(columns=['ISO', 'M49', 'Countries'], inplace=True)\n",
    "df_merge.head()"
   ]
  },
  {
   "cell_type": "code",
   "execution_count": 50,
   "metadata": {},
   "outputs": [
    {
     "name": "stdout",
     "output_type": "stream",
     "text": [
      "Le dataframe intermédiaire comporte 169 pays, avec une population de 5 milliards d'humain, soit 67% de la population mondiale.\n"
     ]
    }
   ],
   "source": [
    "print(\"Le dataframe intermédiaire comporte {} pays, avec une population de {} milliards d'humain, soit {}% de la population mondiale.\".format(df_merge['Pays'].count(), round(df_merge['Population'].sum()/1e9), round((df_merge['Population'].sum()/8e9)*100)))"
   ]
  },
  {
   "cell_type": "markdown",
   "metadata": {},
   "source": [
    "<img src=\"../gfx/sep.jpg\" alt=\"Barre\">"
   ]
  },
  {
   "cell_type": "markdown",
   "metadata": {},
   "source": [
    "## Etape 3 - Sélection des pays"
   ]
  },
  {
   "cell_type": "markdown",
   "metadata": {},
   "source": [
    "***"
   ]
  },
  {
   "cell_type": "markdown",
   "metadata": {},
   "source": [
    "### 3.1 - Analyse de Population"
   ]
  },
  {
   "cell_type": "code",
   "execution_count": 51,
   "metadata": {},
   "outputs": [
    {
     "data": {
      "image/png": "[encoded data removed]",
      "text/plain": [
       "<Figure size 640x480 with 1 Axes>"
      ]
     },
     "metadata": {},
     "output_type": "display_data"
    }
   ],
   "source": [
    "# Distribution de la population\n",
    "sns.boxplot(x=df_merge['Population'])\n",
    "plt.show()"
   ]
  },
  {
   "cell_type": "code",
   "execution_count": 52,
   "metadata": {},
   "outputs": [
    {
     "data": {
      "application/vnd.microsoft.datawrangler.viewer.v0+json": {
       "columns": [
        {
         "name": "index",
         "rawType": "int64",
         "type": "integer"
        },
        {
         "name": "Pays",
         "rawType": "object",
         "type": "string"
        },
        {
         "name": "Population",
         "rawType": "float64",
         "type": "float"
        }
       ],
       "conversionMethod": "pd.DataFrame",
       "ref": "66e5dd81-e7e1-4faa-b0ab-373679ce829f",
       "rows": [
        [
         "69",
         "Inde",
         "1352642280.0"
        ],
        [
         "68",
         "Indonésie",
         "267670543.0"
        ],
        [
         "120",
         "Pakistan",
         "212228286.0"
        ],
        [
         "23",
         "Brésil",
         "209469323.0"
        ],
        [
         "114",
         "Nigéria",
         "195874683.0"
        ]
       ],
       "shape": {
        "columns": 2,
        "rows": 5
       }
      },
      "text/html": [
       "<div>\n",
       "<style scoped>\n",
       "    .dataframe tbody tr th:only-of-type {\n",
       "        vertical-align: middle;\n",
       "    }\n",
       "\n",
       "    .dataframe tbody tr th {\n",
       "        vertical-align: top;\n",
       "    }\n",
       "\n",
       "    .dataframe thead th {\n",
       "        text-align: right;\n",
       "    }\n",
       "</style>\n",
       "<table border=\"1\" class=\"dataframe\">\n",
       "  <thead>\n",
       "    <tr style=\"text-align: right;\">\n",
       "      <th></th>\n",
       "      <th>Pays</th>\n",
       "      <th>Population</th>\n",
       "    </tr>\n",
       "  </thead>\n",
       "  <tbody>\n",
       "    <tr>\n",
       "      <th>69</th>\n",
       "      <td>Inde</td>\n",
       "      <td>1.352642e+09</td>\n",
       "    </tr>\n",
       "    <tr>\n",
       "      <th>68</th>\n",
       "      <td>Indonésie</td>\n",
       "      <td>2.676705e+08</td>\n",
       "    </tr>\n",
       "    <tr>\n",
       "      <th>120</th>\n",
       "      <td>Pakistan</td>\n",
       "      <td>2.122283e+08</td>\n",
       "    </tr>\n",
       "    <tr>\n",
       "      <th>23</th>\n",
       "      <td>Brésil</td>\n",
       "      <td>2.094693e+08</td>\n",
       "    </tr>\n",
       "    <tr>\n",
       "      <th>114</th>\n",
       "      <td>Nigéria</td>\n",
       "      <td>1.958747e+08</td>\n",
       "    </tr>\n",
       "  </tbody>\n",
       "</table>\n",
       "</div>"
      ],
      "text/plain": [
       "          Pays    Population\n",
       "69        Inde  1.352642e+09\n",
       "68   Indonésie  2.676705e+08\n",
       "120   Pakistan  2.122283e+08\n",
       "23      Brésil  2.094693e+08\n",
       "114    Nigéria  1.958747e+08"
      ]
     },
     "execution_count": 52,
     "metadata": {},
     "output_type": "execute_result"
    }
   ],
   "source": [
    "# Tri des pays par population\n",
    "df_merge.sort_values(by='Population', ascending=False, inplace=True)\n",
    "df_merge[['Pays', 'Population']].head()"
   ]
  },
  {
   "cell_type": "markdown",
   "metadata": {},
   "source": [
    "L'Inde avec sa population de 1,4 milliard d'individus est un outlier évident que nous pouvons retirer de la sélection."
   ]
  },
  {
   "cell_type": "code",
   "execution_count": 53,
   "metadata": {},
   "outputs": [],
   "source": [
    "# Suppression de l'Inde\n",
    "df_merge = df_merge[df_merge.Pays != 'Inde']"
   ]
  },
  {
   "cell_type": "code",
   "execution_count": 54,
   "metadata": {},
   "outputs": [
    {
     "data": {
      "image/png": "[encoded data removed]",
      "text/plain": [
       "<Figure size 640x480 with 1 Axes>"
      ]
     },
     "metadata": {},
     "output_type": "display_data"
    }
   ],
   "source": [
    "sns.boxplot(x=df_merge['Population'])\n",
    "plt.show()"
   ]
  },
  {
   "cell_type": "markdown",
   "metadata": {},
   "source": [
    "### 3.2 - Analyse de Production"
   ]
  },
  {
   "cell_type": "code",
   "execution_count": 55,
   "metadata": {},
   "outputs": [
    {
     "data": {
      "image/png": "[encoded data removed]",
      "text/plain": [
       "<Figure size 640x480 with 1 Axes>"
      ]
     },
     "metadata": {},
     "output_type": "display_data"
    }
   ],
   "source": [
    "# Distribution de la production\n",
    "sns.boxplot(x=df_merge['Production'])\n",
    "plt.show()"
   ]
  },
  {
   "cell_type": "code",
   "execution_count": 56,
   "metadata": {},
   "outputs": [
    {
     "data": {
      "application/vnd.microsoft.datawrangler.viewer.v0+json": {
       "columns": [
        {
         "name": "index",
         "rawType": "int64",
         "type": "integer"
        },
        {
         "name": "Pays",
         "rawType": "object",
         "type": "string"
        },
        {
         "name": "Production",
         "rawType": "float64",
         "type": "float"
        }
       ],
       "conversionMethod": "pd.DataFrame",
       "ref": "0afa04aa-c67b-4579-b69c-1fc1df1f74db",
       "rows": [
        [
         "23",
         "Brésil",
         "14691000.0"
        ],
        [
         "131",
         "Fédération de Russie",
         "5308000.0"
        ],
        [
         "68",
         "Indonésie",
         "4083000.0"
        ],
        [
         "99",
         "Mexique",
         "3800000.0"
        ],
        [
         "126",
         "Pologne",
         "2734000.0"
        ]
       ],
       "shape": {
        "columns": 2,
        "rows": 5
       }
      },
      "text/html": [
       "<div>\n",
       "<style scoped>\n",
       "    .dataframe tbody tr th:only-of-type {\n",
       "        vertical-align: middle;\n",
       "    }\n",
       "\n",
       "    .dataframe tbody tr th {\n",
       "        vertical-align: top;\n",
       "    }\n",
       "\n",
       "    .dataframe thead th {\n",
       "        text-align: right;\n",
       "    }\n",
       "</style>\n",
       "<table border=\"1\" class=\"dataframe\">\n",
       "  <thead>\n",
       "    <tr style=\"text-align: right;\">\n",
       "      <th></th>\n",
       "      <th>Pays</th>\n",
       "      <th>Production</th>\n",
       "    </tr>\n",
       "  </thead>\n",
       "  <tbody>\n",
       "    <tr>\n",
       "      <th>23</th>\n",
       "      <td>Brésil</td>\n",
       "      <td>14691000.0</td>\n",
       "    </tr>\n",
       "    <tr>\n",
       "      <th>131</th>\n",
       "      <td>Fédération de Russie</td>\n",
       "      <td>5308000.0</td>\n",
       "    </tr>\n",
       "    <tr>\n",
       "      <th>68</th>\n",
       "      <td>Indonésie</td>\n",
       "      <td>4083000.0</td>\n",
       "    </tr>\n",
       "    <tr>\n",
       "      <th>99</th>\n",
       "      <td>Mexique</td>\n",
       "      <td>3800000.0</td>\n",
       "    </tr>\n",
       "    <tr>\n",
       "      <th>126</th>\n",
       "      <td>Pologne</td>\n",
       "      <td>2734000.0</td>\n",
       "    </tr>\n",
       "  </tbody>\n",
       "</table>\n",
       "</div>"
      ],
      "text/plain": [
       "                     Pays  Production\n",
       "23                 Brésil  14691000.0\n",
       "131  Fédération de Russie   5308000.0\n",
       "68              Indonésie   4083000.0\n",
       "99                Mexique   3800000.0\n",
       "126               Pologne   2734000.0"
      ]
     },
     "execution_count": 56,
     "metadata": {},
     "output_type": "execute_result"
    }
   ],
   "source": [
    "# Tri des pays par production\n",
    "df_merge.sort_values(by='Production', ascending=False, inplace=True)\n",
    "df_merge[['Pays', 'Production']].head()"
   ]
  },
  {
   "cell_type": "markdown",
   "metadata": {},
   "source": [
    "De la même façon, le Brésil est un outlier évident quand il s'agit de la production de volaille, avec 14 millions de tonnes-équivalent carcasse de production annuelle."
   ]
  },
  {
   "cell_type": "code",
   "execution_count": 57,
   "metadata": {},
   "outputs": [],
   "source": [
    "# Suppression du Brésil\n",
    "df_merge = df_merge[df_merge.Pays != 'Brésil']"
   ]
  },
  {
   "cell_type": "code",
   "execution_count": 58,
   "metadata": {},
   "outputs": [
    {
     "data": {
      "image/png": "[encoded data removed]",
      "text/plain": [
       "<Figure size 640x480 with 1 Axes>"
      ]
     },
     "metadata": {},
     "output_type": "display_data"
    }
   ],
   "source": [
    "sns.boxplot(x=df_merge['Production'])\n",
    "plt.show()"
   ]
  },
  {
   "cell_type": "markdown",
   "metadata": {},
   "source": [
    "### 3.3 - Analyse de Revenu"
   ]
  },
  {
   "cell_type": "code",
   "execution_count": 59,
   "metadata": {},
   "outputs": [
    {
     "data": {
      "image/png": "[encoded data removed]",
      "text/plain": [
       "<Figure size 640x480 with 1 Axes>"
      ]
     },
     "metadata": {},
     "output_type": "display_data"
    }
   ],
   "source": [
    "# Distribution des revenus\n",
    "sns.boxplot(x=df_merge['Revenu'])\n",
    "plt.show()"
   ]
  },
  {
   "cell_type": "markdown",
   "metadata": {},
   "source": [
    "Le revenu national brut par habitant de la France étant à 45000 $US, nous décidons de retirer les pays avec un RNB inférieur à 2500$US. Le revenu des habitants de ces pays ne leur permet pas d'être acheteur de nos poulets."
   ]
  },
  {
   "cell_type": "code",
   "execution_count": 60,
   "metadata": {},
   "outputs": [
    {
     "data": {
      "image/png": "[encoded data removed]",
      "text/plain": [
       "<Figure size 640x480 with 1 Axes>"
      ]
     },
     "metadata": {},
     "output_type": "display_data"
    }
   ],
   "source": [
    "# Suppression des pays avec un revenu inférieur à 2500\n",
    "df_merge = df_merge[df_merge.Revenu > 2500]\n",
    "sns.boxplot(x=df_merge['Revenu'])\n",
    "plt.show()"
   ]
  },
  {
   "cell_type": "markdown",
   "metadata": {},
   "source": [
    "<img src=\"../gfx/sep.jpg\" alt=\"Barre\">"
   ]
  },
  {
   "cell_type": "markdown",
   "metadata": {},
   "source": [
    "## Etape 4 - Export du dataframe"
   ]
  },
  {
   "cell_type": "markdown",
   "metadata": {},
   "source": [
    "***"
   ]
  },
  {
   "cell_type": "code",
   "execution_count": 61,
   "metadata": {},
   "outputs": [
    {
     "name": "stdout",
     "output_type": "stream",
     "text": [
      "Le dataframe final comporte 118 pays, avec une population de 2 milliards d'humain, soit 30% de la population mondiale.\n"
     ]
    }
   ],
   "source": [
    "df_merge.to_csv('../data/df_merge.csv', index=False)\n",
    "print(\"Le dataframe final comporte {} pays, avec une population de {} milliards d'humain, soit {}% de la population mondiale.\".format(df_merge['Pays'].count(), round(df_merge['Population'].sum()/1e9), round((df_merge['Population'].sum()/8e9)*100)))"
   ]
  }
 ],
 "metadata": {
  "kernelspec": {
   "display_name": "base",
   "language": "python",
   "name": "python3"
  },
  "language_info": {
   "codemirror_mode": {
    "name": "ipython",
    "version": 3
   },
   "file_extension": ".py",
   "mimetype": "text/x-python",
   "name": "python",
   "nbconvert_exporter": "python",
   "pygments_lexer": "ipython3",
   "version": "3.12.2"
  }
 },
 "nbformat": 4,
 "nbformat_minor": 2
}
